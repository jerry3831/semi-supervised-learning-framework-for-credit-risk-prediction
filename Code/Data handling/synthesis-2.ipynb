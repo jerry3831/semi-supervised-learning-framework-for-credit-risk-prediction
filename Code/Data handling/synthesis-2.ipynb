{
 "cells": [
  {
   "cell_type": "code",
   "execution_count": 1,
   "id": "513a7867",
   "metadata": {},
   "outputs": [],
   "source": [
    "import numpy as np\n",
    "import pandas as pd "
   ]
  },
  {
   "cell_type": "code",
   "execution_count": 2,
   "id": "10ca029d",
   "metadata": {},
   "outputs": [],
   "source": [
    "pd.set_option('display.max_rows', None)\n",
    "pd.set_option('display.max_columns', None)"
   ]
  },
  {
   "cell_type": "code",
   "execution_count": 3,
   "id": "303b44da",
   "metadata": {},
   "outputs": [],
   "source": [
    "data = pd.read_csv(r'C:\\Users\\USER\\Desktop\\Credit risk prediction\\sample-1.csv')"
   ]
  },
  {
   "cell_type": "code",
   "execution_count": 4,
   "id": "95e88586",
   "metadata": {},
   "outputs": [],
   "source": [
    "data = data.drop(columns='Unnamed: 0')"
   ]
  },
  {
   "cell_type": "code",
   "execution_count": 5,
   "id": "9a70241d",
   "metadata": {},
   "outputs": [],
   "source": [
    "data = data.drop(columns='reCoMmendations')"
   ]
  },
  {
   "cell_type": "code",
   "execution_count": 6,
   "id": "f180ed02",
   "metadata": {},
   "outputs": [
    {
     "data": {
      "text/html": [
       "<div>\n",
       "<style scoped>\n",
       "    .dataframe tbody tr th:only-of-type {\n",
       "        vertical-align: middle;\n",
       "    }\n",
       "\n",
       "    .dataframe tbody tr th {\n",
       "        vertical-align: top;\n",
       "    }\n",
       "\n",
       "    .dataframe thead th {\n",
       "        text-align: right;\n",
       "    }\n",
       "</style>\n",
       "<table border=\"1\" class=\"dataframe\">\n",
       "  <thead>\n",
       "    <tr style=\"text-align: right;\">\n",
       "      <th></th>\n",
       "      <th>age_range</th>\n",
       "      <th>gender</th>\n",
       "      <th>marital_status</th>\n",
       "      <th>region</th>\n",
       "      <th>highest_education</th>\n",
       "      <th>school</th>\n",
       "      <th>graduation</th>\n",
       "      <th>study_programme</th>\n",
       "      <th>employment_status</th>\n",
       "      <th>last_year_benefitted</th>\n",
       "      <th>total_loan</th>\n",
       "      <th>loan_purpose</th>\n",
       "      <th>repayment_status</th>\n",
       "      <th>repayment_info_source</th>\n",
       "      <th>repayment_method</th>\n",
       "      <th>repayment_method_convenience</th>\n",
       "      <th>effectiveness_repayment_method</th>\n",
       "      <th>collection_strategy_effectiveness</th>\n",
       "      <th>interaction_quality_on_repayment</th>\n",
       "      <th>alternative_collection_strategies</th>\n",
       "      <th>overall_experience_with_loan_process</th>\n",
       "    </tr>\n",
       "  </thead>\n",
       "  <tbody>\n",
       "    <tr>\n",
       "      <th>0</th>\n",
       "      <td>38 to 48</td>\n",
       "      <td>Male</td>\n",
       "      <td>Married</td>\n",
       "      <td>Southern</td>\n",
       "      <td>Master</td>\n",
       "      <td>Poly</td>\n",
       "      <td>2004.0</td>\n",
       "      <td>Accountancy</td>\n",
       "      <td>Employed_fulltime</td>\n",
       "      <td>2004</td>\n",
       "      <td>Less than MWK 200,000</td>\n",
       "      <td>Tuition_Living_Stationery</td>\n",
       "      <td>Fully_paid</td>\n",
       "      <td>CRBreport</td>\n",
       "      <td>oneoff</td>\n",
       "      <td>neutral</td>\n",
       "      <td>ineffective</td>\n",
       "      <td>effective</td>\n",
       "      <td>neutral</td>\n",
       "      <td>Contact us via emails with CoMplete informatio...</td>\n",
       "      <td>Dissatisfied</td>\n",
       "    </tr>\n",
       "    <tr>\n",
       "      <th>1</th>\n",
       "      <td>28 to 37</td>\n",
       "      <td>Female</td>\n",
       "      <td>Single</td>\n",
       "      <td>Central</td>\n",
       "      <td>Master</td>\n",
       "      <td>Poly</td>\n",
       "      <td>2014.0</td>\n",
       "      <td>Accountancy</td>\n",
       "      <td>Employed_fulltime</td>\n",
       "      <td>2014</td>\n",
       "      <td>MWK 300,001 – MWK 500,000</td>\n",
       "      <td>Tuition_Living_Stationery</td>\n",
       "      <td>Fully_paid</td>\n",
       "      <td>Employer</td>\n",
       "      <td>monthly_salary</td>\n",
       "      <td>convenient</td>\n",
       "      <td>ineffective</td>\n",
       "      <td>ineffective</td>\n",
       "      <td>neutral</td>\n",
       "      <td>Tracking system and better communication</td>\n",
       "      <td>Dissatisfied</td>\n",
       "    </tr>\n",
       "    <tr>\n",
       "      <th>2</th>\n",
       "      <td>28 to 37</td>\n",
       "      <td>Male</td>\n",
       "      <td>Married</td>\n",
       "      <td>Central</td>\n",
       "      <td>Master</td>\n",
       "      <td>Poly</td>\n",
       "      <td>2014.0</td>\n",
       "      <td>Accountancy</td>\n",
       "      <td>Employed_fulltime</td>\n",
       "      <td>2013</td>\n",
       "      <td>MWK 600,001 – MWK 1,000,000</td>\n",
       "      <td>Tuition_Living</td>\n",
       "      <td>Fully_paid</td>\n",
       "      <td>Email_Phonecall</td>\n",
       "      <td>monthly_salary</td>\n",
       "      <td>very_convenient</td>\n",
       "      <td>very_effective</td>\n",
       "      <td>very_effective</td>\n",
       "      <td>very_positive</td>\n",
       "      <td>Offer rewards for timely payments or early set...</td>\n",
       "      <td>Very satisfied</td>\n",
       "    </tr>\n",
       "    <tr>\n",
       "      <th>3</th>\n",
       "      <td>28 to 37</td>\n",
       "      <td>Female</td>\n",
       "      <td>Married</td>\n",
       "      <td>Southern</td>\n",
       "      <td>Master</td>\n",
       "      <td>Poly</td>\n",
       "      <td>2012.0</td>\n",
       "      <td>Accountancy</td>\n",
       "      <td>Employed_fulltime</td>\n",
       "      <td>2011</td>\n",
       "      <td>MWK 600,001 – MWK 1,000,000</td>\n",
       "      <td>Tuition_Living</td>\n",
       "      <td>Fully_paid</td>\n",
       "      <td>Phonecall_Inperson</td>\n",
       "      <td>monthly_salary</td>\n",
       "      <td>very_convenient</td>\n",
       "      <td>very_effective</td>\n",
       "      <td>very_effective</td>\n",
       "      <td>very_positive</td>\n",
       "      <td>Identify and address potential issues before t...</td>\n",
       "      <td>Very satisfied</td>\n",
       "    </tr>\n",
       "    <tr>\n",
       "      <th>4</th>\n",
       "      <td>28 to 37</td>\n",
       "      <td>Male</td>\n",
       "      <td>Married</td>\n",
       "      <td>Central</td>\n",
       "      <td>Bachelor</td>\n",
       "      <td>Poly</td>\n",
       "      <td>2016.0</td>\n",
       "      <td>Accountancy</td>\n",
       "      <td>Employed_fulltime</td>\n",
       "      <td>2015</td>\n",
       "      <td>MWK 600,001 – MWK 1,000,000</td>\n",
       "      <td>Tuition_Living_Stationery</td>\n",
       "      <td>Fully_paid</td>\n",
       "      <td>Phonecall_Inperson</td>\n",
       "      <td>monthly_salary</td>\n",
       "      <td>very_convenient</td>\n",
       "      <td>very_effective</td>\n",
       "      <td>very_effective</td>\n",
       "      <td>very_positive</td>\n",
       "      <td>Identify and address potential issues before t...</td>\n",
       "      <td>Very satisfied</td>\n",
       "    </tr>\n",
       "  </tbody>\n",
       "</table>\n",
       "</div>"
      ],
      "text/plain": [
       "  age_range  gender marital_status    region highest_education school  \\\n",
       "0  38 to 48    Male        Married  Southern            Master   Poly   \n",
       "1  28 to 37  Female         Single   Central            Master   Poly   \n",
       "2  28 to 37    Male        Married   Central            Master   Poly   \n",
       "3  28 to 37  Female        Married  Southern            Master   Poly   \n",
       "4  28 to 37    Male        Married   Central          Bachelor   Poly   \n",
       "\n",
       "   graduation study_programme  employment_status  last_year_benefitted  \\\n",
       "0      2004.0     Accountancy  Employed_fulltime                  2004   \n",
       "1      2014.0     Accountancy  Employed_fulltime                  2014   \n",
       "2      2014.0     Accountancy  Employed_fulltime                  2013   \n",
       "3      2012.0     Accountancy  Employed_fulltime                  2011   \n",
       "4      2016.0     Accountancy  Employed_fulltime                  2015   \n",
       "\n",
       "                    total_loan               loan_purpose repayment_status  \\\n",
       "0        Less than MWK 200,000  Tuition_Living_Stationery       Fully_paid   \n",
       "1    MWK 300,001 – MWK 500,000  Tuition_Living_Stationery       Fully_paid   \n",
       "2  MWK 600,001 – MWK 1,000,000             Tuition_Living       Fully_paid   \n",
       "3  MWK 600,001 – MWK 1,000,000             Tuition_Living       Fully_paid   \n",
       "4  MWK 600,001 – MWK 1,000,000  Tuition_Living_Stationery       Fully_paid   \n",
       "\n",
       "  repayment_info_source repayment_method repayment_method_convenience  \\\n",
       "0             CRBreport           oneoff                      neutral   \n",
       "1              Employer   monthly_salary                   convenient   \n",
       "2       Email_Phonecall   monthly_salary              very_convenient   \n",
       "3    Phonecall_Inperson   monthly_salary              very_convenient   \n",
       "4    Phonecall_Inperson   monthly_salary              very_convenient   \n",
       "\n",
       "  effectiveness_repayment_method collection_strategy_effectiveness  \\\n",
       "0                    ineffective                         effective   \n",
       "1                    ineffective                       ineffective   \n",
       "2                 very_effective                    very_effective   \n",
       "3                 very_effective                    very_effective   \n",
       "4                 very_effective                    very_effective   \n",
       "\n",
       "  interaction_quality_on_repayment  \\\n",
       "0                          neutral   \n",
       "1                          neutral   \n",
       "2                    very_positive   \n",
       "3                    very_positive   \n",
       "4                    very_positive   \n",
       "\n",
       "                   alternative_collection_strategies  \\\n",
       "0  Contact us via emails with CoMplete informatio...   \n",
       "1          Tracking system and better communication    \n",
       "2  Offer rewards for timely payments or early set...   \n",
       "3  Identify and address potential issues before t...   \n",
       "4  Identify and address potential issues before t...   \n",
       "\n",
       "  overall_experience_with_loan_process  \n",
       "0                         Dissatisfied  \n",
       "1                         Dissatisfied  \n",
       "2                       Very satisfied  \n",
       "3                       Very satisfied  \n",
       "4                       Very satisfied  "
      ]
     },
     "execution_count": 6,
     "metadata": {},
     "output_type": "execute_result"
    }
   ],
   "source": [
    "data.head()"
   ]
  },
  {
   "cell_type": "markdown",
   "id": "d00f410f",
   "metadata": {},
   "source": [
    "## feature engineering"
   ]
  },
  {
   "cell_type": "code",
   "execution_count": 11,
   "id": "ca85efca",
   "metadata": {},
   "outputs": [
    {
     "name": "stdout",
     "output_type": "stream",
     "text": [
      "unique values\n",
      " ['38 to 48' '28 to 37' 'Above 49' '21 to 27']\n",
      "\n",
      "value counts\n",
      "age_range\n",
      "28 to 37    176\n",
      "38 to 48     66\n",
      "21 to 27     61\n",
      "Above 49     52\n",
      "Name: count, dtype: int64\n"
     ]
    }
   ],
   "source": [
    "print(\"unique values\\n\",data.age_range.unique());print()\n",
    "print(\"value counts\")\n",
    "print(data.age_range.value_counts())"
   ]
  },
  {
   "cell_type": "code",
   "execution_count": 11,
   "id": "87c843d8-6dc5-4d39-82dc-7c7a0f9d6de4",
   "metadata": {},
   "outputs": [
    {
     "data": {
      "text/plain": [
       "array(['less than mwk 200,000', 'mwk 300,001 – mwk 500,000',\n",
       "       'mwk 600,001 – mwk 1,000,000', 'above mwk1,000,000',\n",
       "       'less than mwk 1,000,000', 'k365,000', 'none',\n",
       "       'mwk 2,000,001 – mwk 3,000,000', 'mwk 1,000,001 – mwk 2,000,000'],\n",
       "      dtype=object)"
      ]
     },
     "execution_count": 11,
     "metadata": {},
     "output_type": "execute_result"
    }
   ],
   "source": [
    "# total loan \n",
    "sample.total_loan.unique()"
   ]
  },
  {
   "cell_type": "code",
   "execution_count": 12,
   "id": "c5cb3d9a-717b-4aea-9794-85f9b5f310cc",
   "metadata": {},
   "outputs": [
    {
     "data": {
      "text/plain": [
       "total_loan\n",
       "above mwk1,000,000               150\n",
       "mwk 600,001 – mwk 1,000,000      113\n",
       "mwk 300,001 – mwk 500,000         56\n",
       "less than mwk 1,000,000           20\n",
       "less than mwk 200,000             10\n",
       "mwk 1,000,001 – mwk 2,000,000      3\n",
       "k365,000                           1\n",
       "none                               1\n",
       "mwk 2,000,001 – mwk 3,000,000      1\n",
       "Name: count, dtype: int64"
      ]
     },
     "execution_count": 12,
     "metadata": {},
     "output_type": "execute_result"
    }
   ],
   "source": [
    "sample.total_loan.value_counts()"
   ]
  },
  {
   "cell_type": "code",
   "execution_count": 6,
   "id": "2cbfc1dc",
   "metadata": {},
   "outputs": [],
   "source": [
    "data['age_group'] = data['age_range'].replace({'38 to 48': '38 - 48', '28 to 37': '28 - 37', 'Above 49': '49 - 59', '21 to 27': '21 - 27'}).astype('category')"
   ]
  },
  {
   "cell_type": "code",
   "execution_count": 7,
   "id": "1491a6f6-61f0-4e1d-8612-bc7c04258f49",
   "metadata": {},
   "outputs": [
    {
     "name": "stderr",
     "output_type": "stream",
     "text": [
      "C:\\Users\\USER\\AppData\\Local\\Temp\\ipykernel_20068\\1943819626.py:1: FutureWarning: DataFrame.applymap has been deprecated. Use DataFrame.map instead.\n",
      "  sample = data.applymap(lambda col: col.lower() if isinstance(col, str) else col)\n"
     ]
    }
   ],
   "source": [
    "sample = data.applymap(lambda col: col.lower() if isinstance(col, str) else col)"
   ]
  },
  {
   "cell_type": "code",
   "execution_count": 8,
   "id": "77a62102-239b-4b13-aab8-73e8b45ec90f",
   "metadata": {},
   "outputs": [],
   "source": [
    "sample = sample.drop(columns=['age_range'])"
   ]
  },
  {
   "cell_type": "code",
   "execution_count": 13,
   "id": "546d1e1f-292d-48bf-8f42-b282b8986412",
   "metadata": {},
   "outputs": [],
   "source": [
    "sample.to_csv('sample.csv', index=False)"
   ]
  },
  {
   "cell_type": "code",
   "execution_count": 7,
   "id": "82c99e28",
   "metadata": {},
   "outputs": [],
   "source": [
    "sex_mstatus = data.groupby(['gender', 'marital_status'])\n"
   ]
  },
  {
   "cell_type": "code",
   "execution_count": 24,
   "id": "a0f84ef7",
   "metadata": {},
   "outputs": [
    {
     "name": "stdout",
     "output_type": "stream",
     "text": [
      "count based on gender and marital status\n"
     ]
    },
    {
     "data": {
      "text/html": [
       "<div>\n",
       "<style scoped>\n",
       "    .dataframe tbody tr th:only-of-type {\n",
       "        vertical-align: middle;\n",
       "    }\n",
       "\n",
       "    .dataframe tbody tr th {\n",
       "        vertical-align: top;\n",
       "    }\n",
       "\n",
       "    .dataframe thead th {\n",
       "        text-align: right;\n",
       "    }\n",
       "</style>\n",
       "<table border=\"1\" class=\"dataframe\">\n",
       "  <thead>\n",
       "    <tr style=\"text-align: right;\">\n",
       "      <th></th>\n",
       "      <th></th>\n",
       "      <th>age_range</th>\n",
       "      <th>region</th>\n",
       "      <th>highest_education</th>\n",
       "      <th>school</th>\n",
       "      <th>graduation</th>\n",
       "      <th>study_programme</th>\n",
       "      <th>employment_status</th>\n",
       "      <th>last_year_benefitted</th>\n",
       "      <th>total_loan</th>\n",
       "      <th>loan_purpose</th>\n",
       "      <th>repayment_status</th>\n",
       "      <th>repayment_info_source</th>\n",
       "      <th>repayment_method</th>\n",
       "      <th>repayment_method_convenience</th>\n",
       "      <th>effectiveness_repayment_method</th>\n",
       "      <th>collection_strategy_effectiveness</th>\n",
       "      <th>interaction_quality_on_repayment</th>\n",
       "      <th>alternative_collection_strategies</th>\n",
       "      <th>overall_experience_with_loan_process</th>\n",
       "      <th>age_group</th>\n",
       "    </tr>\n",
       "    <tr>\n",
       "      <th>gender</th>\n",
       "      <th>marital_status</th>\n",
       "      <th></th>\n",
       "      <th></th>\n",
       "      <th></th>\n",
       "      <th></th>\n",
       "      <th></th>\n",
       "      <th></th>\n",
       "      <th></th>\n",
       "      <th></th>\n",
       "      <th></th>\n",
       "      <th></th>\n",
       "      <th></th>\n",
       "      <th></th>\n",
       "      <th></th>\n",
       "      <th></th>\n",
       "      <th></th>\n",
       "      <th></th>\n",
       "      <th></th>\n",
       "      <th></th>\n",
       "      <th></th>\n",
       "      <th></th>\n",
       "    </tr>\n",
       "  </thead>\n",
       "  <tbody>\n",
       "    <tr>\n",
       "      <th rowspan=\"4\" valign=\"top\">Female</th>\n",
       "      <th>Divorced</th>\n",
       "      <td>8</td>\n",
       "      <td>8</td>\n",
       "      <td>8</td>\n",
       "      <td>8</td>\n",
       "      <td>8</td>\n",
       "      <td>8</td>\n",
       "      <td>8</td>\n",
       "      <td>8</td>\n",
       "      <td>8</td>\n",
       "      <td>8</td>\n",
       "      <td>8</td>\n",
       "      <td>8</td>\n",
       "      <td>8</td>\n",
       "      <td>8</td>\n",
       "      <td>8</td>\n",
       "      <td>8</td>\n",
       "      <td>8</td>\n",
       "      <td>8</td>\n",
       "      <td>8</td>\n",
       "      <td>8</td>\n",
       "    </tr>\n",
       "    <tr>\n",
       "      <th>Married</th>\n",
       "      <td>82</td>\n",
       "      <td>82</td>\n",
       "      <td>82</td>\n",
       "      <td>82</td>\n",
       "      <td>82</td>\n",
       "      <td>82</td>\n",
       "      <td>82</td>\n",
       "      <td>82</td>\n",
       "      <td>82</td>\n",
       "      <td>82</td>\n",
       "      <td>82</td>\n",
       "      <td>82</td>\n",
       "      <td>82</td>\n",
       "      <td>82</td>\n",
       "      <td>82</td>\n",
       "      <td>82</td>\n",
       "      <td>82</td>\n",
       "      <td>82</td>\n",
       "      <td>82</td>\n",
       "      <td>82</td>\n",
       "    </tr>\n",
       "    <tr>\n",
       "      <th>Single</th>\n",
       "      <td>40</td>\n",
       "      <td>40</td>\n",
       "      <td>40</td>\n",
       "      <td>40</td>\n",
       "      <td>40</td>\n",
       "      <td>40</td>\n",
       "      <td>40</td>\n",
       "      <td>40</td>\n",
       "      <td>40</td>\n",
       "      <td>40</td>\n",
       "      <td>40</td>\n",
       "      <td>40</td>\n",
       "      <td>40</td>\n",
       "      <td>40</td>\n",
       "      <td>40</td>\n",
       "      <td>40</td>\n",
       "      <td>40</td>\n",
       "      <td>40</td>\n",
       "      <td>40</td>\n",
       "      <td>40</td>\n",
       "    </tr>\n",
       "    <tr>\n",
       "      <th>Widowed</th>\n",
       "      <td>8</td>\n",
       "      <td>8</td>\n",
       "      <td>8</td>\n",
       "      <td>8</td>\n",
       "      <td>8</td>\n",
       "      <td>8</td>\n",
       "      <td>8</td>\n",
       "      <td>8</td>\n",
       "      <td>8</td>\n",
       "      <td>8</td>\n",
       "      <td>8</td>\n",
       "      <td>8</td>\n",
       "      <td>8</td>\n",
       "      <td>8</td>\n",
       "      <td>8</td>\n",
       "      <td>8</td>\n",
       "      <td>8</td>\n",
       "      <td>8</td>\n",
       "      <td>8</td>\n",
       "      <td>8</td>\n",
       "    </tr>\n",
       "    <tr>\n",
       "      <th rowspan=\"4\" valign=\"top\">Male</th>\n",
       "      <th>Divorced</th>\n",
       "      <td>7</td>\n",
       "      <td>7</td>\n",
       "      <td>7</td>\n",
       "      <td>7</td>\n",
       "      <td>7</td>\n",
       "      <td>7</td>\n",
       "      <td>7</td>\n",
       "      <td>7</td>\n",
       "      <td>7</td>\n",
       "      <td>7</td>\n",
       "      <td>7</td>\n",
       "      <td>7</td>\n",
       "      <td>7</td>\n",
       "      <td>7</td>\n",
       "      <td>7</td>\n",
       "      <td>7</td>\n",
       "      <td>7</td>\n",
       "      <td>7</td>\n",
       "      <td>7</td>\n",
       "      <td>7</td>\n",
       "    </tr>\n",
       "    <tr>\n",
       "      <th>Married</th>\n",
       "      <td>114</td>\n",
       "      <td>114</td>\n",
       "      <td>114</td>\n",
       "      <td>114</td>\n",
       "      <td>114</td>\n",
       "      <td>114</td>\n",
       "      <td>114</td>\n",
       "      <td>114</td>\n",
       "      <td>114</td>\n",
       "      <td>114</td>\n",
       "      <td>114</td>\n",
       "      <td>114</td>\n",
       "      <td>114</td>\n",
       "      <td>114</td>\n",
       "      <td>114</td>\n",
       "      <td>114</td>\n",
       "      <td>114</td>\n",
       "      <td>114</td>\n",
       "      <td>114</td>\n",
       "      <td>114</td>\n",
       "    </tr>\n",
       "    <tr>\n",
       "      <th>Single</th>\n",
       "      <td>90</td>\n",
       "      <td>90</td>\n",
       "      <td>90</td>\n",
       "      <td>90</td>\n",
       "      <td>90</td>\n",
       "      <td>90</td>\n",
       "      <td>90</td>\n",
       "      <td>90</td>\n",
       "      <td>90</td>\n",
       "      <td>90</td>\n",
       "      <td>90</td>\n",
       "      <td>90</td>\n",
       "      <td>90</td>\n",
       "      <td>90</td>\n",
       "      <td>90</td>\n",
       "      <td>90</td>\n",
       "      <td>90</td>\n",
       "      <td>90</td>\n",
       "      <td>90</td>\n",
       "      <td>90</td>\n",
       "    </tr>\n",
       "    <tr>\n",
       "      <th>Widowed</th>\n",
       "      <td>6</td>\n",
       "      <td>6</td>\n",
       "      <td>6</td>\n",
       "      <td>6</td>\n",
       "      <td>6</td>\n",
       "      <td>6</td>\n",
       "      <td>6</td>\n",
       "      <td>6</td>\n",
       "      <td>6</td>\n",
       "      <td>6</td>\n",
       "      <td>6</td>\n",
       "      <td>6</td>\n",
       "      <td>6</td>\n",
       "      <td>6</td>\n",
       "      <td>6</td>\n",
       "      <td>6</td>\n",
       "      <td>6</td>\n",
       "      <td>6</td>\n",
       "      <td>6</td>\n",
       "      <td>6</td>\n",
       "    </tr>\n",
       "  </tbody>\n",
       "</table>\n",
       "</div>"
      ],
      "text/plain": [
       "                       age_range  region  highest_education  school  \\\n",
       "gender marital_status                                                 \n",
       "Female Divorced                8       8                  8       8   \n",
       "       Married                82      82                 82      82   \n",
       "       Single                 40      40                 40      40   \n",
       "       Widowed                 8       8                  8       8   \n",
       "Male   Divorced                7       7                  7       7   \n",
       "       Married               114     114                114     114   \n",
       "       Single                 90      90                 90      90   \n",
       "       Widowed                 6       6                  6       6   \n",
       "\n",
       "                       graduation  study_programme  employment_status  \\\n",
       "gender marital_status                                                   \n",
       "Female Divorced                 8                8                  8   \n",
       "       Married                 82               82                 82   \n",
       "       Single                  40               40                 40   \n",
       "       Widowed                  8                8                  8   \n",
       "Male   Divorced                 7                7                  7   \n",
       "       Married                114              114                114   \n",
       "       Single                  90               90                 90   \n",
       "       Widowed                  6                6                  6   \n",
       "\n",
       "                       last_year_benefitted  total_loan  loan_purpose  \\\n",
       "gender marital_status                                                   \n",
       "Female Divorced                           8           8             8   \n",
       "       Married                           82          82            82   \n",
       "       Single                            40          40            40   \n",
       "       Widowed                            8           8             8   \n",
       "Male   Divorced                           7           7             7   \n",
       "       Married                          114         114           114   \n",
       "       Single                            90          90            90   \n",
       "       Widowed                            6           6             6   \n",
       "\n",
       "                       repayment_status  repayment_info_source  \\\n",
       "gender marital_status                                            \n",
       "Female Divorced                       8                      8   \n",
       "       Married                       82                     82   \n",
       "       Single                        40                     40   \n",
       "       Widowed                        8                      8   \n",
       "Male   Divorced                       7                      7   \n",
       "       Married                      114                    114   \n",
       "       Single                        90                     90   \n",
       "       Widowed                        6                      6   \n",
       "\n",
       "                       repayment_method  repayment_method_convenience  \\\n",
       "gender marital_status                                                   \n",
       "Female Divorced                       8                             8   \n",
       "       Married                       82                            82   \n",
       "       Single                        40                            40   \n",
       "       Widowed                        8                             8   \n",
       "Male   Divorced                       7                             7   \n",
       "       Married                      114                           114   \n",
       "       Single                        90                            90   \n",
       "       Widowed                        6                             6   \n",
       "\n",
       "                       effectiveness_repayment_method  \\\n",
       "gender marital_status                                   \n",
       "Female Divorced                                     8   \n",
       "       Married                                     82   \n",
       "       Single                                      40   \n",
       "       Widowed                                      8   \n",
       "Male   Divorced                                     7   \n",
       "       Married                                    114   \n",
       "       Single                                      90   \n",
       "       Widowed                                      6   \n",
       "\n",
       "                       collection_strategy_effectiveness  \\\n",
       "gender marital_status                                      \n",
       "Female Divorced                                        8   \n",
       "       Married                                        82   \n",
       "       Single                                         40   \n",
       "       Widowed                                         8   \n",
       "Male   Divorced                                        7   \n",
       "       Married                                       114   \n",
       "       Single                                         90   \n",
       "       Widowed                                         6   \n",
       "\n",
       "                       interaction_quality_on_repayment  \\\n",
       "gender marital_status                                     \n",
       "Female Divorced                                       8   \n",
       "       Married                                       82   \n",
       "       Single                                        40   \n",
       "       Widowed                                        8   \n",
       "Male   Divorced                                       7   \n",
       "       Married                                      114   \n",
       "       Single                                        90   \n",
       "       Widowed                                        6   \n",
       "\n",
       "                       alternative_collection_strategies  \\\n",
       "gender marital_status                                      \n",
       "Female Divorced                                        8   \n",
       "       Married                                        82   \n",
       "       Single                                         40   \n",
       "       Widowed                                         8   \n",
       "Male   Divorced                                        7   \n",
       "       Married                                       114   \n",
       "       Single                                         90   \n",
       "       Widowed                                         6   \n",
       "\n",
       "                       overall_experience_with_loan_process  age_group  \n",
       "gender marital_status                                                   \n",
       "Female Divorced                                           8          8  \n",
       "       Married                                           82         82  \n",
       "       Single                                            40         40  \n",
       "       Widowed                                            8          8  \n",
       "Male   Divorced                                           7          7  \n",
       "       Married                                          114        114  \n",
       "       Single                                            90         90  \n",
       "       Widowed                                            6          6  "
      ]
     },
     "execution_count": 24,
     "metadata": {},
     "output_type": "execute_result"
    }
   ],
   "source": [
    "print(\"count based on gender and marital status\")\n",
    "pd.DataFrame(sex_mstatus.count())"
   ]
  },
  {
   "cell_type": "code",
   "execution_count": 8,
   "id": "9a27eb83",
   "metadata": {},
   "outputs": [
    {
     "name": "stdout",
     "output_type": "stream",
     "text": [
      "size based on gender and marital status\n"
     ]
    },
    {
     "data": {
      "text/plain": [
       "Index(['gender', 'marital_status', 'count'], dtype='object')"
      ]
     },
     "execution_count": 8,
     "metadata": {},
     "output_type": "execute_result"
    }
   ],
   "source": [
    "print('size based on gender and marital status')\n",
    "sizes = sex_mstatus.size().reset_index().rename(columns={0:'count'})\n",
    "sizes.columns\n"
   ]
  },
  {
   "cell_type": "code",
   "execution_count": 47,
   "id": "de6a6334",
   "metadata": {},
   "outputs": [
    {
     "data": {
      "text/html": [
       "<div>\n",
       "<style scoped>\n",
       "    .dataframe tbody tr th:only-of-type {\n",
       "        vertical-align: middle;\n",
       "    }\n",
       "\n",
       "    .dataframe tbody tr th {\n",
       "        vertical-align: top;\n",
       "    }\n",
       "\n",
       "    .dataframe thead th {\n",
       "        text-align: right;\n",
       "    }\n",
       "</style>\n",
       "<table border=\"1\" class=\"dataframe\">\n",
       "  <thead>\n",
       "    <tr style=\"text-align: right;\">\n",
       "      <th></th>\n",
       "      <th>gender</th>\n",
       "      <th>marital_status</th>\n",
       "      <th>count</th>\n",
       "    </tr>\n",
       "  </thead>\n",
       "  <tbody>\n",
       "    <tr>\n",
       "      <th>0</th>\n",
       "      <td>Female</td>\n",
       "      <td>Divorced</td>\n",
       "      <td>8</td>\n",
       "    </tr>\n",
       "    <tr>\n",
       "      <th>1</th>\n",
       "      <td>Female</td>\n",
       "      <td>Married</td>\n",
       "      <td>82</td>\n",
       "    </tr>\n",
       "    <tr>\n",
       "      <th>2</th>\n",
       "      <td>Female</td>\n",
       "      <td>Single</td>\n",
       "      <td>40</td>\n",
       "    </tr>\n",
       "    <tr>\n",
       "      <th>3</th>\n",
       "      <td>Female</td>\n",
       "      <td>Widowed</td>\n",
       "      <td>8</td>\n",
       "    </tr>\n",
       "    <tr>\n",
       "      <th>4</th>\n",
       "      <td>Male</td>\n",
       "      <td>Divorced</td>\n",
       "      <td>7</td>\n",
       "    </tr>\n",
       "    <tr>\n",
       "      <th>5</th>\n",
       "      <td>Male</td>\n",
       "      <td>Married</td>\n",
       "      <td>114</td>\n",
       "    </tr>\n",
       "    <tr>\n",
       "      <th>6</th>\n",
       "      <td>Male</td>\n",
       "      <td>Single</td>\n",
       "      <td>90</td>\n",
       "    </tr>\n",
       "    <tr>\n",
       "      <th>7</th>\n",
       "      <td>Male</td>\n",
       "      <td>Widowed</td>\n",
       "      <td>6</td>\n",
       "    </tr>\n",
       "  </tbody>\n",
       "</table>\n",
       "</div>"
      ],
      "text/plain": [
       "   gender marital_status  count\n",
       "0  Female       Divorced      8\n",
       "1  Female        Married     82\n",
       "2  Female         Single     40\n",
       "3  Female        Widowed      8\n",
       "4    Male       Divorced      7\n",
       "5    Male        Married    114\n",
       "6    Male         Single     90\n",
       "7    Male        Widowed      6"
      ]
     },
     "execution_count": 47,
     "metadata": {},
     "output_type": "execute_result"
    }
   ],
   "source": [
    "sizes"
   ]
  },
  {
   "cell_type": "code",
   "execution_count": 9,
   "id": "4422a3d7",
   "metadata": {},
   "outputs": [],
   "source": [
    "import seaborn as sns\n",
    "import matplotlib.pyplot as plt"
   ]
  },
  {
   "cell_type": "code",
   "execution_count": null,
   "id": "85aa8c41",
   "metadata": {},
   "outputs": [
    {
     "data": {
      "text/plain": [
       "<Axes: xlabel='gender', ylabel='Count'>"
      ]
     },
     "execution_count": 31,
     "metadata": {},
     "output_type": "execute_result"
    },
    {
     "data": {
      "image/png": "[encoded data removed]",
      "text/plain": [
       "<Figure size 640x480 with 1 Axes>"
      ]
     },
     "metadata": {},
     "output_type": "display_data"
    }
   ],
   "source": [
    "sns.histplot(data, x='gender', hue='marital_status', multiple='dodge', kde='line')"
   ]
  },
  {
   "cell_type": "code",
   "execution_count": 10,
   "id": "622e8da6",
   "metadata": {},
   "outputs": [],
   "source": [
    "sex_mstatus_grp2 = data.groupby(['gender', 'marital_status', 'repayment_status'])"
   ]
  },
  {
   "cell_type": "code",
   "execution_count": 39,
   "id": "61442336",
   "metadata": {},
   "outputs": [
    {
     "data": {
      "text/plain": [
       "Index(['gender', 'marital_status', 'repayment_status', 'count'], dtype='object')"
      ]
     },
     "execution_count": 39,
     "metadata": {},
     "output_type": "execute_result"
    }
   ],
   "source": [
    "sex_mstaus_repayment = sex_mstatus_grp2.size().reset_index()\n",
    "sex_mstaus_repayment = sex_mstaus_repayment.rename(columns={0: 'count'})\n",
    "sex_mstaus_repayment.columns"
   ]
  },
  {
   "cell_type": "code",
   "execution_count": 58,
   "id": "8c6ff55e",
   "metadata": {},
   "outputs": [
    {
     "data": {
      "text/html": [
       "<div>\n",
       "<style scoped>\n",
       "    .dataframe tbody tr th:only-of-type {\n",
       "        vertical-align: middle;\n",
       "    }\n",
       "\n",
       "    .dataframe tbody tr th {\n",
       "        vertical-align: top;\n",
       "    }\n",
       "\n",
       "    .dataframe thead th {\n",
       "        text-align: right;\n",
       "    }\n",
       "</style>\n",
       "<table border=\"1\" class=\"dataframe\">\n",
       "  <thead>\n",
       "    <tr style=\"text-align: right;\">\n",
       "      <th></th>\n",
       "      <th>gender</th>\n",
       "      <th>marital_status</th>\n",
       "      <th>repayment_status</th>\n",
       "      <th>count</th>\n",
       "    </tr>\n",
       "  </thead>\n",
       "  <tbody>\n",
       "    <tr>\n",
       "      <th>13</th>\n",
       "      <td>Male</td>\n",
       "      <td>Married</td>\n",
       "      <td>Fully_paid</td>\n",
       "      <td>66</td>\n",
       "    </tr>\n",
       "    <tr>\n",
       "      <th>18</th>\n",
       "      <td>Male</td>\n",
       "      <td>Single</td>\n",
       "      <td>not_paid</td>\n",
       "      <td>51</td>\n",
       "    </tr>\n",
       "    <tr>\n",
       "      <th>3</th>\n",
       "      <td>Female</td>\n",
       "      <td>Married</td>\n",
       "      <td>Fully_paid</td>\n",
       "      <td>47</td>\n",
       "    </tr>\n",
       "    <tr>\n",
       "      <th>17</th>\n",
       "      <td>Male</td>\n",
       "      <td>Single</td>\n",
       "      <td>Partially_paid</td>\n",
       "      <td>27</td>\n",
       "    </tr>\n",
       "    <tr>\n",
       "      <th>14</th>\n",
       "      <td>Male</td>\n",
       "      <td>Married</td>\n",
       "      <td>Partially_paid</td>\n",
       "      <td>25</td>\n",
       "    </tr>\n",
       "    <tr>\n",
       "      <th>15</th>\n",
       "      <td>Male</td>\n",
       "      <td>Married</td>\n",
       "      <td>not_paid</td>\n",
       "      <td>23</td>\n",
       "    </tr>\n",
       "    <tr>\n",
       "      <th>5</th>\n",
       "      <td>Female</td>\n",
       "      <td>Married</td>\n",
       "      <td>not_paid</td>\n",
       "      <td>19</td>\n",
       "    </tr>\n",
       "    <tr>\n",
       "      <th>8</th>\n",
       "      <td>Female</td>\n",
       "      <td>Single</td>\n",
       "      <td>not_paid</td>\n",
       "      <td>18</td>\n",
       "    </tr>\n",
       "    <tr>\n",
       "      <th>4</th>\n",
       "      <td>Female</td>\n",
       "      <td>Married</td>\n",
       "      <td>Partially_paid</td>\n",
       "      <td>16</td>\n",
       "    </tr>\n",
       "    <tr>\n",
       "      <th>16</th>\n",
       "      <td>Male</td>\n",
       "      <td>Single</td>\n",
       "      <td>Fully_paid</td>\n",
       "      <td>12</td>\n",
       "    </tr>\n",
       "    <tr>\n",
       "      <th>6</th>\n",
       "      <td>Female</td>\n",
       "      <td>Single</td>\n",
       "      <td>Fully_paid</td>\n",
       "      <td>11</td>\n",
       "    </tr>\n",
       "    <tr>\n",
       "      <th>7</th>\n",
       "      <td>Female</td>\n",
       "      <td>Single</td>\n",
       "      <td>Partially_paid</td>\n",
       "      <td>11</td>\n",
       "    </tr>\n",
       "    <tr>\n",
       "      <th>9</th>\n",
       "      <td>Female</td>\n",
       "      <td>Widowed</td>\n",
       "      <td>Fully_paid</td>\n",
       "      <td>8</td>\n",
       "    </tr>\n",
       "    <tr>\n",
       "      <th>10</th>\n",
       "      <td>Male</td>\n",
       "      <td>Divorced</td>\n",
       "      <td>Fully_paid</td>\n",
       "      <td>5</td>\n",
       "    </tr>\n",
       "    <tr>\n",
       "      <th>0</th>\n",
       "      <td>Female</td>\n",
       "      <td>Divorced</td>\n",
       "      <td>Fully_paid</td>\n",
       "      <td>4</td>\n",
       "    </tr>\n",
       "    <tr>\n",
       "      <th>1</th>\n",
       "      <td>Female</td>\n",
       "      <td>Divorced</td>\n",
       "      <td>Partially_paid</td>\n",
       "      <td>3</td>\n",
       "    </tr>\n",
       "    <tr>\n",
       "      <th>19</th>\n",
       "      <td>Male</td>\n",
       "      <td>Widowed</td>\n",
       "      <td>Fully_paid</td>\n",
       "      <td>3</td>\n",
       "    </tr>\n",
       "    <tr>\n",
       "      <th>20</th>\n",
       "      <td>Male</td>\n",
       "      <td>Widowed</td>\n",
       "      <td>Partially_paid</td>\n",
       "      <td>3</td>\n",
       "    </tr>\n",
       "    <tr>\n",
       "      <th>12</th>\n",
       "      <td>Male</td>\n",
       "      <td>Divorced</td>\n",
       "      <td>not_paid</td>\n",
       "      <td>1</td>\n",
       "    </tr>\n",
       "    <tr>\n",
       "      <th>11</th>\n",
       "      <td>Male</td>\n",
       "      <td>Divorced</td>\n",
       "      <td>Partially_paid</td>\n",
       "      <td>1</td>\n",
       "    </tr>\n",
       "    <tr>\n",
       "      <th>2</th>\n",
       "      <td>Female</td>\n",
       "      <td>Divorced</td>\n",
       "      <td>not_paid</td>\n",
       "      <td>1</td>\n",
       "    </tr>\n",
       "  </tbody>\n",
       "</table>\n",
       "</div>"
      ],
      "text/plain": [
       "    gender marital_status repayment_status  count\n",
       "13    Male        Married       Fully_paid     66\n",
       "18    Male         Single         not_paid     51\n",
       "3   Female        Married       Fully_paid     47\n",
       "17    Male         Single   Partially_paid     27\n",
       "14    Male        Married   Partially_paid     25\n",
       "15    Male        Married         not_paid     23\n",
       "5   Female        Married         not_paid     19\n",
       "8   Female         Single         not_paid     18\n",
       "4   Female        Married   Partially_paid     16\n",
       "16    Male         Single       Fully_paid     12\n",
       "6   Female         Single       Fully_paid     11\n",
       "7   Female         Single   Partially_paid     11\n",
       "9   Female        Widowed       Fully_paid      8\n",
       "10    Male       Divorced       Fully_paid      5\n",
       "0   Female       Divorced       Fully_paid      4\n",
       "1   Female       Divorced   Partially_paid      3\n",
       "19    Male        Widowed       Fully_paid      3\n",
       "20    Male        Widowed   Partially_paid      3\n",
       "12    Male       Divorced         not_paid      1\n",
       "11    Male       Divorced   Partially_paid      1\n",
       "2   Female       Divorced         not_paid      1"
      ]
     },
     "execution_count": 58,
     "metadata": {},
     "output_type": "execute_result"
    }
   ],
   "source": [
    "sex_mstaus_repayment.sort_values(by='count', ascending=False)"
   ]
  },
  {
   "cell_type": "code",
   "execution_count": 63,
   "id": "89dfb0f4",
   "metadata": {},
   "outputs": [
    {
     "data": {
      "text/html": [
       "<div>\n",
       "<style scoped>\n",
       "    .dataframe tbody tr th:only-of-type {\n",
       "        vertical-align: middle;\n",
       "    }\n",
       "\n",
       "    .dataframe tbody tr th {\n",
       "        vertical-align: top;\n",
       "    }\n",
       "\n",
       "    .dataframe thead th {\n",
       "        text-align: right;\n",
       "    }\n",
       "</style>\n",
       "<table border=\"1\" class=\"dataframe\">\n",
       "  <thead>\n",
       "    <tr style=\"text-align: right;\">\n",
       "      <th></th>\n",
       "      <th>age_range</th>\n",
       "      <th>gender</th>\n",
       "      <th>marital_status</th>\n",
       "      <th>region</th>\n",
       "      <th>highest_education</th>\n",
       "      <th>school</th>\n",
       "      <th>graduation</th>\n",
       "      <th>study_programme</th>\n",
       "      <th>employment_status</th>\n",
       "      <th>last_year_benefitted</th>\n",
       "      <th>total_loan</th>\n",
       "      <th>loan_purpose</th>\n",
       "      <th>repayment_status</th>\n",
       "      <th>repayment_info_source</th>\n",
       "      <th>repayment_method</th>\n",
       "      <th>repayment_method_convenience</th>\n",
       "      <th>effectiveness_repayment_method</th>\n",
       "      <th>collection_strategy_effectiveness</th>\n",
       "      <th>interaction_quality_on_repayment</th>\n",
       "      <th>alternative_collection_strategies</th>\n",
       "      <th>overall_experience_with_loan_process</th>\n",
       "      <th>age_group</th>\n",
       "    </tr>\n",
       "  </thead>\n",
       "  <tbody>\n",
       "    <tr>\n",
       "      <th>186</th>\n",
       "      <td>28 to 37</td>\n",
       "      <td>Male</td>\n",
       "      <td>Single</td>\n",
       "      <td>northern</td>\n",
       "      <td>Bachelor</td>\n",
       "      <td>Chanco</td>\n",
       "      <td>2014.0</td>\n",
       "      <td>Education_Science</td>\n",
       "      <td>Employed_parttime</td>\n",
       "      <td>2013</td>\n",
       "      <td>Above MWK1,000,000</td>\n",
       "      <td>Tuition_Living</td>\n",
       "      <td>not_paid</td>\n",
       "      <td>Inperson</td>\n",
       "      <td>none</td>\n",
       "      <td>inconvenient</td>\n",
       "      <td>ineffective</td>\n",
       "      <td>neutral</td>\n",
       "      <td>neutral</td>\n",
       "      <td>Clear communication</td>\n",
       "      <td>neutral</td>\n",
       "      <td>28 - 37</td>\n",
       "    </tr>\n",
       "  </tbody>\n",
       "</table>\n",
       "</div>"
      ],
      "text/plain": [
       "    age_range gender marital_status    region highest_education  school  \\\n",
       "186  28 to 37   Male         Single  northern          Bachelor  Chanco   \n",
       "\n",
       "     graduation    study_programme  employment_status  last_year_benefitted  \\\n",
       "186      2014.0  Education_Science  Employed_parttime                  2013   \n",
       "\n",
       "             total_loan    loan_purpose repayment_status  \\\n",
       "186  Above MWK1,000,000  Tuition_Living         not_paid   \n",
       "\n",
       "    repayment_info_source repayment_method repayment_method_convenience  \\\n",
       "186              Inperson             none                 inconvenient   \n",
       "\n",
       "    effectiveness_repayment_method collection_strategy_effectiveness  \\\n",
       "186                    ineffective                           neutral   \n",
       "\n",
       "    interaction_quality_on_repayment alternative_collection_strategies  \\\n",
       "186                          neutral               Clear communication   \n",
       "\n",
       "    overall_experience_with_loan_process age_group  \n",
       "186                              neutral   28 - 37  "
      ]
     },
     "execution_count": 63,
     "metadata": {},
     "output_type": "execute_result"
    }
   ],
   "source": [
    "data.sample(1)"
   ]
  },
  {
   "cell_type": "code",
   "execution_count": 11,
   "id": "eec59003",
   "metadata": {},
   "outputs": [],
   "source": [
    "education = data.groupby(['highest_education', 'school', 'study_programme'])"
   ]
  },
  {
   "cell_type": "code",
   "execution_count": 12,
   "id": "fe92df5a",
   "metadata": {},
   "outputs": [],
   "source": [
    "_education = education.size().reset_index().rename(columns={0:'count'}).sort_values(by='count', ascending=False)"
   ]
  },
  {
   "cell_type": "code",
   "execution_count": 78,
   "id": "412780a0",
   "metadata": {},
   "outputs": [
    {
     "data": {
      "text/plain": [
       "11"
      ]
     },
     "execution_count": 78,
     "metadata": {},
     "output_type": "execute_result"
    }
   ],
   "source": [
    "_education.school.nunique()"
   ]
  },
  {
   "cell_type": "code",
   "execution_count": 79,
   "id": "a6f38d1c",
   "metadata": {},
   "outputs": [
    {
     "data": {
      "text/plain": [
       "61"
      ]
     },
     "execution_count": 79,
     "metadata": {},
     "output_type": "execute_result"
    }
   ],
   "source": [
    "_education.study_programme.nunique()"
   ]
  },
  {
   "cell_type": "code",
   "execution_count": 82,
   "id": "ea405f58",
   "metadata": {},
   "outputs": [
    {
     "data": {
      "text/html": [
       "<div>\n",
       "<style scoped>\n",
       "    .dataframe tbody tr th:only-of-type {\n",
       "        vertical-align: middle;\n",
       "    }\n",
       "\n",
       "    .dataframe tbody tr th {\n",
       "        vertical-align: top;\n",
       "    }\n",
       "\n",
       "    .dataframe thead th {\n",
       "        text-align: right;\n",
       "    }\n",
       "</style>\n",
       "<table border=\"1\" class=\"dataframe\">\n",
       "  <thead>\n",
       "    <tr style=\"text-align: right;\">\n",
       "      <th></th>\n",
       "      <th>highest_education</th>\n",
       "      <th>school</th>\n",
       "      <th>study_programme</th>\n",
       "      <th>count</th>\n",
       "    </tr>\n",
       "  </thead>\n",
       "  <tbody>\n",
       "    <tr>\n",
       "      <th>52</th>\n",
       "      <td>Bachelor</td>\n",
       "      <td>Poly</td>\n",
       "      <td>Architectural_Studies_</td>\n",
       "      <td>2</td>\n",
       "    </tr>\n",
       "    <tr>\n",
       "      <th>44</th>\n",
       "      <td>Bachelor</td>\n",
       "      <td>Mzuni</td>\n",
       "      <td>Pharmacy</td>\n",
       "      <td>7</td>\n",
       "    </tr>\n",
       "    <tr>\n",
       "      <th>74</th>\n",
       "      <td>Doctorate</td>\n",
       "      <td>CoM</td>\n",
       "      <td>MBBS</td>\n",
       "      <td>2</td>\n",
       "    </tr>\n",
       "    <tr>\n",
       "      <th>5</th>\n",
       "      <td>Bachelor</td>\n",
       "      <td>Chanco</td>\n",
       "      <td>Performing_Arts</td>\n",
       "      <td>1</td>\n",
       "    </tr>\n",
       "  </tbody>\n",
       "</table>\n",
       "</div>"
      ],
      "text/plain": [
       "   highest_education  school         study_programme  count\n",
       "52          Bachelor    Poly  Architectural_Studies_      2\n",
       "44          Bachelor   Mzuni                Pharmacy      7\n",
       "74         Doctorate     CoM                    MBBS      2\n",
       "5           Bachelor  Chanco         Performing_Arts      1"
      ]
     },
     "execution_count": 82,
     "metadata": {},
     "output_type": "execute_result"
    }
   ],
   "source": [
    "_education.sample(4)"
   ]
  },
  {
   "cell_type": "code",
   "execution_count": 13,
   "id": "89512e2a",
   "metadata": {},
   "outputs": [],
   "source": [
    "def distributionTables(data):\n",
    "    for col in _education.columns:\n",
    "        counts = data[col].value_counts()\n",
    "        percent = (data[col].value_counts(normalize=True)*100).round(2)\n",
    "        \n",
    "        table = pd.DataFrame({\n",
    "            'response': counts.index,\n",
    "            'count': counts.values,\n",
    "            'percent(%)': percent.values       \n",
    "        })\n",
    "        \n",
    "        print(f'{col}')\n",
    "        print(table);print()"
   ]
  },
  {
   "cell_type": "code",
   "execution_count": 14,
   "id": "a4711e66",
   "metadata": {},
   "outputs": [
    {
     "name": "stdout",
     "output_type": "stream",
     "text": [
      "highest_education\n",
      "    response  count  percent(%)\n",
      "0   Bachelor     66       53.66\n",
      "1     Master     34       27.64\n",
      "2  Doctorate     22       17.89\n",
      "3    Diploma      1        0.81\n",
      "\n",
      "school\n",
      "   response  count  percent(%)\n",
      "0     Mzuni     38       30.89\n",
      "1      Poly     26       21.14\n",
      "2    Chanco     17       13.82\n",
      "3    Luanar     16       13.01\n",
      "4       CoM      6        4.88\n",
      "5   Chanco       6        4.88\n",
      "6      CoM       6        4.88\n",
      "7      MUST      4        3.25\n",
      "8   Luanar       2        1.63\n",
      "9       KCN      1        0.81\n",
      "10  MANCOSA      1        0.81\n",
      "\n",
      "study_programme\n",
      "                                          response  count  percent(%)\n",
      "0                                Education_Science     15       12.20\n",
      "1                                             MBBS     10        8.13\n",
      "2                                         Pharmacy      7        5.69\n",
      "3                                        Dentistry      6        4.88\n",
      "4                   Theology_and_Religious_Studies      6        4.88\n",
      "5                          Business_Administration      3        2.44\n",
      "6                              Education_Languages      3        2.44\n",
      "7                                      Accountancy      3        2.44\n",
      "8                                   Arts_Education      3        2.44\n",
      "9                                        Chemistry      3        2.44\n",
      "10                                         Science      2        1.63\n",
      "11                             Education_Technical      2        1.63\n",
      "12                                      Journalism      2        1.63\n",
      "13                                        Forestry      2        1.63\n",
      "14                                        Commerce      2        1.63\n",
      "15                               Physical_Planning      2        1.63\n",
      "16                          Architectural_Studies_      2        1.63\n",
      "17                         Agricultural_Technology      2        1.63\n",
      "18                                Business_Studies      2        1.63\n",
      "19                Library_and_Information_Science_      2        1.63\n",
      "20        Information_and_communication_Technology      2        1.63\n",
      "21                          Agricultural_Economics      2        1.63\n",
      "22                                      Humanities      2        1.63\n",
      "23                   Renewable_Energy_Technologies      1        0.81\n",
      "24                              Biomedical_Science      1        0.81\n",
      "25                              Food_and_Nutrition      1        0.81\n",
      "26                                  Social_Science      1        0.81\n",
      "27                                 Performing_Arts      1        0.81\n",
      "28                            Environmental_Health      1        0.81\n",
      "29                           Media_for_Development      1        0.81\n",
      "30                       Environmental_Management_      1        0.81\n",
      "31                          Mechanical_Engineering      1        0.81\n",
      "32                           Nursing_and_Midwifery      1        0.81\n",
      "33                                    Engineering_      1        0.81\n",
      "34                                    Data_Science      1        0.81\n",
      "35                          Electrical_Engineering      1        0.81\n",
      "36                      Water_Resources_Management      1        0.81\n",
      "37                                         Tourism      1        0.81\n",
      "38                               Sports_Management      1        0.81\n",
      "39                                  Animal_Science      1        0.81\n",
      "40                          Irrigation_Engineering      1        0.81\n",
      "41                    Natural_Resources_Management      1        0.81\n",
      "42                      Textile_and_Fashion_Design      1        0.81\n",
      "43                                       Sociology      1        0.81\n",
      "44                             Food_and_Technology      1        0.81\n",
      "45                         Agribusiness_Management      1        0.81\n",
      "46                                             Law      1        0.81\n",
      "47                               Civil_Engineering      1        0.81\n",
      "48  Electronics_and_Telecommunications_Engineering      1        0.81\n",
      "49                                        Agronomy      1        0.81\n",
      "50                                       Optometry      1        0.81\n",
      "51                                       Fisheries      1        0.81\n",
      "52              Bachelor_of_Arts_Political_Science      1        0.81\n",
      "53                                         Nursing      1        0.81\n",
      "54                                Cultural_Studies      1        0.81\n",
      "55                     Human_Resource_Development_      1        0.81\n",
      "56                                 Arts_Humanities      1        0.81\n",
      "57                        Environmental_Management      1        0.81\n",
      "58                  Fisheries_and_Aquatic_Sciences      1        0.81\n",
      "59                             Veterinary_Medicine      1        0.81\n",
      "60                          Information_Technology      1        0.81\n",
      "\n",
      "count\n",
      "    response  count  percent(%)\n",
      "0          1     71       57.72\n",
      "1          2     14       11.38\n",
      "2          5     10        8.13\n",
      "3          3      8        6.50\n",
      "4          6      5        4.07\n",
      "5          4      4        3.25\n",
      "6         13      2        1.63\n",
      "7         10      2        1.63\n",
      "8          7      2        1.63\n",
      "9         28      1        0.81\n",
      "10        20      1        0.81\n",
      "11        11      1        0.81\n",
      "12         9      1        0.81\n",
      "13         8      1        0.81\n",
      "\n"
     ]
    }
   ],
   "source": [
    "distributionTables(_education)"
   ]
  },
  {
   "cell_type": "code",
   "execution_count": 15,
   "id": "d9e2af14",
   "metadata": {},
   "outputs": [],
   "source": [
    "highest_level = data.groupby(['highest_education', 'repayment_status'])"
   ]
  },
  {
   "cell_type": "code",
   "execution_count": 16,
   "id": "d9e069be",
   "metadata": {},
   "outputs": [],
   "source": [
    "_level = highest_level.size().reset_index().rename(columns={0:'count'}).sort_values(by='count', ascending=False)"
   ]
  },
  {
   "cell_type": "code",
   "execution_count": 20,
   "id": "cb164782",
   "metadata": {},
   "outputs": [
    {
     "data": {
      "text/html": [
       "<div>\n",
       "<style scoped>\n",
       "    .dataframe tbody tr th:only-of-type {\n",
       "        vertical-align: middle;\n",
       "    }\n",
       "\n",
       "    .dataframe tbody tr th {\n",
       "        vertical-align: top;\n",
       "    }\n",
       "\n",
       "    .dataframe thead th {\n",
       "        text-align: right;\n",
       "    }\n",
       "</style>\n",
       "<table border=\"1\" class=\"dataframe\">\n",
       "  <thead>\n",
       "    <tr style=\"text-align: right;\">\n",
       "      <th></th>\n",
       "      <th>highest_education</th>\n",
       "      <th>repayment_status</th>\n",
       "      <th>count</th>\n",
       "    </tr>\n",
       "  </thead>\n",
       "  <tbody>\n",
       "    <tr>\n",
       "      <th>2</th>\n",
       "      <td>Bachelor</td>\n",
       "      <td>not_paid</td>\n",
       "      <td>98</td>\n",
       "    </tr>\n",
       "    <tr>\n",
       "      <th>0</th>\n",
       "      <td>Bachelor</td>\n",
       "      <td>Fully_paid</td>\n",
       "      <td>68</td>\n",
       "    </tr>\n",
       "    <tr>\n",
       "      <th>1</th>\n",
       "      <td>Bachelor</td>\n",
       "      <td>Partially_paid</td>\n",
       "      <td>67</td>\n",
       "    </tr>\n",
       "    <tr>\n",
       "      <th>6</th>\n",
       "      <td>Master</td>\n",
       "      <td>Fully_paid</td>\n",
       "      <td>50</td>\n",
       "    </tr>\n",
       "    <tr>\n",
       "      <th>4</th>\n",
       "      <td>Doctorate</td>\n",
       "      <td>Fully_paid</td>\n",
       "      <td>37</td>\n",
       "    </tr>\n",
       "    <tr>\n",
       "      <th>8</th>\n",
       "      <td>Master</td>\n",
       "      <td>not_paid</td>\n",
       "      <td>15</td>\n",
       "    </tr>\n",
       "    <tr>\n",
       "      <th>7</th>\n",
       "      <td>Master</td>\n",
       "      <td>Partially_paid</td>\n",
       "      <td>14</td>\n",
       "    </tr>\n",
       "    <tr>\n",
       "      <th>5</th>\n",
       "      <td>Doctorate</td>\n",
       "      <td>Partially_paid</td>\n",
       "      <td>5</td>\n",
       "    </tr>\n",
       "    <tr>\n",
       "      <th>3</th>\n",
       "      <td>Diploma</td>\n",
       "      <td>Fully_paid</td>\n",
       "      <td>1</td>\n",
       "    </tr>\n",
       "  </tbody>\n",
       "</table>\n",
       "</div>"
      ],
      "text/plain": [
       "  highest_education repayment_status  count\n",
       "2          Bachelor         not_paid     98\n",
       "0          Bachelor       Fully_paid     68\n",
       "1          Bachelor   Partially_paid     67\n",
       "6            Master       Fully_paid     50\n",
       "4         Doctorate       Fully_paid     37\n",
       "8            Master         not_paid     15\n",
       "7            Master   Partially_paid     14\n",
       "5         Doctorate   Partially_paid      5\n",
       "3           Diploma       Fully_paid      1"
      ]
     },
     "execution_count": 20,
     "metadata": {},
     "output_type": "execute_result"
    }
   ],
   "source": [
    "_level = _level.drop(columns='percent')\n",
    "_level"
   ]
  },
  {
   "cell_type": "code",
   "execution_count": 18,
   "id": "85cd77a2",
   "metadata": {},
   "outputs": [
    {
     "data": {
      "text/plain": [
       "total_loan\n",
       "above mwk1,000,000               150\n",
       "mwk 600,001 – mwk 1,000,000      113\n",
       "mwk 300,001 – mwk 500,000         56\n",
       "less than mwk 1,000,000           20\n",
       "less than mwk 200,000             10\n",
       "mwk 1,000,001 – mwk 2,000,000      3\n",
       "k365,000                           1\n",
       "none                               1\n",
       "mwk 2,000,001 – mwk 3,000,000      1\n",
       "Name: count, dtype: int64"
      ]
     },
     "execution_count": 18,
     "metadata": {},
     "output_type": "execute_result"
    }
   ],
   "source": [
    "sample.total_loan.value_counts() "
   ]
  },
  {
   "cell_type": "code",
   "execution_count": 19,
   "id": "8a011495-4fba-44b3-9ac5-648a3cd81c49",
   "metadata": {},
   "outputs": [
    {
     "data": {
      "text/plain": [
       "array(['less than mwk 200,000', 'mwk 300,001 – mwk 500,000',\n",
       "       'mwk 600,001 – mwk 1,000,000', 'above mwk1,000,000',\n",
       "       'less than mwk 1,000,000', 'k365,000', 'none',\n",
       "       'mwk 2,000,001 – mwk 3,000,000', 'mwk 1,000,001 – mwk 2,000,000'],\n",
       "      dtype=object)"
      ]
     },
     "execution_count": 19,
     "metadata": {},
     "output_type": "execute_result"
    }
   ],
   "source": [
    "sample.total_loan.unique()"
   ]
  },
  {
   "cell_type": "code",
   "execution_count": 10,
   "id": "1a84d640-26c1-4f15-a2ce-e54696f99bcd",
   "metadata": {},
   "outputs": [],
   "source": [
    "sample['over_under_milion'] = sample.total_loan"
   ]
  },
  {
   "cell_type": "code",
   "execution_count": 11,
   "id": "e7f54165-edeb-477d-bf8a-ab0f10172ce5",
   "metadata": {},
   "outputs": [],
   "source": [
    "sample['over_under_milion'] = sample['over_under_milion'].replace({'above mwk1,000,000': 'over', 'mwk 600,001 – mwk 1,000,000': 'under', 'mwk 300,001 – mwk 500,000':'under',\n",
    "                                     'less than mwk 1,000,000':'under', 'less than mwk 200,000':'under', 'mwk 1,000,001 – mwk 2,000,000': 'over',\n",
    "                                     'k365,000': 'under', 'mwk 2,000,001 – mwk 3,000,000': 'over'})"
   ]
  },
  {
   "cell_type": "code",
   "execution_count": 12,
   "id": "522f5888-a5c1-4e67-a538-7c40af94e4ed",
   "metadata": {},
   "outputs": [
    {
     "data": {
      "text/plain": [
       "over_under_milion\n",
       "under    200\n",
       "over     154\n",
       "none       1\n",
       "Name: count, dtype: int64"
      ]
     },
     "execution_count": 12,
     "metadata": {},
     "output_type": "execute_result"
    }
   ],
   "source": [
    "sample.over_under_milion.value_counts()"
   ]
  },
  {
   "cell_type": "code",
   "execution_count": 13,
   "id": "210ff983-6a5a-4c4d-a8fd-2491e80dade6",
   "metadata": {},
   "outputs": [
    {
     "data": {
      "text/plain": [
       "over_under_milion\n",
       "False    354\n",
       "True       1\n",
       "Name: count, dtype: int64"
      ]
     },
     "execution_count": 13,
     "metadata": {},
     "output_type": "execute_result"
    }
   ],
   "source": [
    " sample['over_under_milion'].str.contains('none').value_counts()"
   ]
  },
  {
   "cell_type": "code",
   "execution_count": 13,
   "id": "56f8b277-cad9-464a-880a-a9cf52aa59d1",
   "metadata": {},
   "outputs": [],
   "source": [
    "# sample.drop(sample[sample['over_under_milion'] == 'none'], axis=0)\n",
    "# sample.drop(sample['over_under_milion'].str.contains('none'))\n",
    "substring_mask = sample['over_under_milion'].str.contains('none')\n",
    "indices_to_drop = sample[substring_mask].index\n",
    "sample = sample.drop(indices_to_drop)"
   ]
  },
  {
   "cell_type": "code",
   "execution_count": 100,
   "id": "c17af310-d51e-40fa-af06-277de9027e63",
   "metadata": {},
   "outputs": [
    {
     "data": {
      "text/html": [
       "<div>\n",
       "<style scoped>\n",
       "    .dataframe tbody tr th:only-of-type {\n",
       "        vertical-align: middle;\n",
       "    }\n",
       "\n",
       "    .dataframe tbody tr th {\n",
       "        vertical-align: top;\n",
       "    }\n",
       "\n",
       "    .dataframe thead th {\n",
       "        text-align: right;\n",
       "    }\n",
       "</style>\n",
       "<table border=\"1\" class=\"dataframe\">\n",
       "  <thead>\n",
       "    <tr style=\"text-align: right;\">\n",
       "      <th></th>\n",
       "      <th>gender</th>\n",
       "      <th>marital_status</th>\n",
       "      <th>region</th>\n",
       "      <th>highest_education</th>\n",
       "      <th>school</th>\n",
       "      <th>graduation</th>\n",
       "      <th>study_programme</th>\n",
       "      <th>employment_status</th>\n",
       "      <th>last_year_benefitted</th>\n",
       "      <th>total_loan</th>\n",
       "      <th>loan_purpose</th>\n",
       "      <th>repayment_status</th>\n",
       "      <th>repayment_info_source</th>\n",
       "      <th>repayment_method</th>\n",
       "      <th>repayment_method_convenience</th>\n",
       "      <th>effectiveness_repayment_method</th>\n",
       "      <th>collection_strategy_effectiveness</th>\n",
       "      <th>interaction_quality_on_repayment</th>\n",
       "      <th>alternative_collection_strategies</th>\n",
       "      <th>overall_experience_with_loan_process</th>\n",
       "      <th>age_group</th>\n",
       "      <th>over_under_milion</th>\n",
       "    </tr>\n",
       "  </thead>\n",
       "  <tbody>\n",
       "    <tr>\n",
       "      <th>124</th>\n",
       "      <td>male</td>\n",
       "      <td>married</td>\n",
       "      <td>northern</td>\n",
       "      <td>bachelor</td>\n",
       "      <td>mzuni</td>\n",
       "      <td>2015.0</td>\n",
       "      <td>chemistry</td>\n",
       "      <td>employed_fulltime</td>\n",
       "      <td>2014</td>\n",
       "      <td>mwk 600,001 – mwk 1,000,000</td>\n",
       "      <td>tuition_living</td>\n",
       "      <td>fully_paid</td>\n",
       "      <td>email_phonecall_inperson</td>\n",
       "      <td>monthly_salary</td>\n",
       "      <td>very_convenient</td>\n",
       "      <td>very_effective</td>\n",
       "      <td>very_effective</td>\n",
       "      <td>very_positive</td>\n",
       "      <td>conduct regular audits</td>\n",
       "      <td>very satisfied</td>\n",
       "      <td>38 - 48</td>\n",
       "      <td>under</td>\n",
       "    </tr>\n",
       "  </tbody>\n",
       "</table>\n",
       "</div>"
      ],
      "text/plain": [
       "    gender marital_status    region highest_education school  graduation  \\\n",
       "124   male        married  northern          bachelor  mzuni      2015.0   \n",
       "\n",
       "    study_programme  employment_status  last_year_benefitted  \\\n",
       "124       chemistry  employed_fulltime                  2014   \n",
       "\n",
       "                      total_loan    loan_purpose repayment_status  \\\n",
       "124  mwk 600,001 – mwk 1,000,000  tuition_living       fully_paid   \n",
       "\n",
       "        repayment_info_source repayment_method repayment_method_convenience  \\\n",
       "124  email_phonecall_inperson   monthly_salary              very_convenient   \n",
       "\n",
       "    effectiveness_repayment_method collection_strategy_effectiveness  \\\n",
       "124                 very_effective                    very_effective   \n",
       "\n",
       "    interaction_quality_on_repayment alternative_collection_strategies  \\\n",
       "124                    very_positive           conduct regular audits    \n",
       "\n",
       "    overall_experience_with_loan_process age_group over_under_milion  \n",
       "124                       very satisfied   38 - 48             under  "
      ]
     },
     "execution_count": 100,
     "metadata": {},
     "output_type": "execute_result"
    }
   ],
   "source": [
    "sample.sample(1)"
   ]
  },
  {
   "cell_type": "code",
   "execution_count": 14,
   "id": "3fa164f5-554d-4f9b-8584-4c4aa7e3e0c3",
   "metadata": {},
   "outputs": [],
   "source": [
    "sample = sample.drop(columns='total_loan')"
   ]
  },
  {
   "cell_type": "code",
   "execution_count": 15,
   "id": "10e07b0f-1bac-4538-ba44-2036784397ec",
   "metadata": {},
   "outputs": [],
   "source": [
    "sample.to_csv('sample.csv', index=False)"
   ]
  },
  {
   "cell_type": "code",
   "execution_count": 16,
   "id": "a4d5b426-2178-4bac-b784-a3ac12860552",
   "metadata": {},
   "outputs": [],
   "source": [
    "sample['discipline'] = sample.study_programme"
   ]
  },
  {
   "cell_type": "code",
   "execution_count": 17,
   "id": "374bbe79-c6f5-4657-8d4b-f877ce4eae3e",
   "metadata": {},
   "outputs": [],
   "source": [
    "sample.loc[sample['discipline'].str.contains('technology'), 'discipline'] = 'technology'\n",
    "sample.loc[sample['discipline'].str.contains('edu'), 'discipline'] = 'education'\n",
    "sample.loc[sample['discipline'].str.contains('soci'), 'discipline'] = 'social science'\n",
    "sample.loc[sample['discipline'].str.contains('theology'), 'discipline'] = 'theology'\n",
    "sample.loc[sample['discipline'].str.contains('mbbs|pharmacy|dentistry|food|biomedical|nursing|animal|optometry|vert', case=False), 'discipline'] = 'medicine'\n",
    "sample.loc[sample['discipline'].str.contains('accountancy|agribusiness_management|agricultural_economics|business_administration|business_studies|commerce|human_resource_development_|sports_management|tourism', case=False), 'discipline'] = 'commerce'\n",
    "sample.loc[sample['discipline'].str.contains('arts_humanities|cultural_studies|humanities|theology'), 'discipline'] = 'humanities'\n",
    "sample.loc[sample['discipline'].str.contains('soci|bachelor_of_arts_political_science|education|journalism|law|library_and_information_science_|media_for_development|social science', case=False), 'discipline'] = 'social sciences'\n",
    "sample.loc[sample['discipline'].str.contains('agronomy|architectural_studies_|chemistry|civil_engineering|data_science|electrical_engineering|electronics_and_telecommunications_engineering|engineering_|irrigation_engineering|mechanical_engineering|renewable_energy_technologies|science|technology', case=False), 'discipline'] = 'stem'\n",
    "sample.loc[sample['discipline'].str.contains('environmental_management|environmental_management_|fisheries|fisheries_and_aquatic_sciences|forestry|natural_resources_management|physical_planning|veterinary_medicine|water_resources_management|environmental_health', case=False), 'discipline'] = 'natural resourses'\n",
    "sample.loc[sample['discipline'].str.contains('medicine|veterinary_medicine|environmental_health', case=False), 'discipline'] = 'health sciences'\n",
    "sample.loc[sample['discipline'].str.contains('textile_and_fashion_design'), 'discipline'] = 'design'"
   ]
  },
  {
   "cell_type": "code",
   "execution_count": 27,
   "id": "73df0fe3-feeb-4e16-a905-a831b0d9e2cf",
   "metadata": {},
   "outputs": [
    {
     "data": {
      "text/plain": [
       "discipline\n",
       "stem                 176\n",
       "health sciences      104\n",
       "commerce              30\n",
       "humanities            28\n",
       "natural resourses     14\n",
       "design                 1\n",
       "performing_arts        1\n",
       "Name: count, dtype: int64"
      ]
     },
     "execution_count": 27,
     "metadata": {},
     "output_type": "execute_result"
    }
   ],
   "source": [
    "sample.discipline.value_counts()"
   ]
  },
  {
   "cell_type": "code",
   "execution_count": 30,
   "id": "26bb4e29-655f-4a1f-854d-fe61781c7492",
   "metadata": {},
   "outputs": [
    {
     "data": {
      "text/plain": [
       "7"
      ]
     },
     "execution_count": 30,
     "metadata": {},
     "output_type": "execute_result"
    }
   ],
   "source": [
    "sample.discipline.nunique()"
   ]
  },
  {
   "cell_type": "code",
   "execution_count": 41,
   "id": "211b2792-d51c-41ea-a990-292ff26ea471",
   "metadata": {},
   "outputs": [
    {
     "data": {
      "image/png": "[encoded data removed]",
      "text/plain": [
       "<Figure size 640x480 with 1 Axes>"
      ]
     },
     "metadata": {},
     "output_type": "display_data"
    }
   ],
   "source": [
    "sns.countplot(data=sample, x='discipline', hue='repayment_status')\n",
    "plt.xticks(rotation=45, ha='right')\n",
    "plt.show()"
   ]
  },
  {
   "cell_type": "code",
   "execution_count": 18,
   "id": "b5c10753-7105-446e-a3f0-0ec438ce49b9",
   "metadata": {},
   "outputs": [],
   "source": [
    "sample_2 = sample.copy()"
   ]
  },
  {
   "cell_type": "code",
   "execution_count": 19,
   "id": "5c988279-ea6d-440a-b9a0-1e08bc01a299",
   "metadata": {},
   "outputs": [
    {
     "data": {
      "text/html": [
       "<div>\n",
       "<style scoped>\n",
       "    .dataframe tbody tr th:only-of-type {\n",
       "        vertical-align: middle;\n",
       "    }\n",
       "\n",
       "    .dataframe tbody tr th {\n",
       "        vertical-align: top;\n",
       "    }\n",
       "\n",
       "    .dataframe thead th {\n",
       "        text-align: right;\n",
       "    }\n",
       "</style>\n",
       "<table border=\"1\" class=\"dataframe\">\n",
       "  <thead>\n",
       "    <tr style=\"text-align: right;\">\n",
       "      <th></th>\n",
       "      <th>gender</th>\n",
       "      <th>marital_status</th>\n",
       "      <th>region</th>\n",
       "      <th>highest_education</th>\n",
       "      <th>school</th>\n",
       "      <th>graduation</th>\n",
       "      <th>study_programme</th>\n",
       "      <th>employment_status</th>\n",
       "      <th>last_year_benefitted</th>\n",
       "      <th>loan_purpose</th>\n",
       "      <th>repayment_status</th>\n",
       "      <th>repayment_info_source</th>\n",
       "      <th>repayment_method</th>\n",
       "      <th>repayment_method_convenience</th>\n",
       "      <th>effectiveness_repayment_method</th>\n",
       "      <th>collection_strategy_effectiveness</th>\n",
       "      <th>interaction_quality_on_repayment</th>\n",
       "      <th>alternative_collection_strategies</th>\n",
       "      <th>overall_experience_with_loan_process</th>\n",
       "      <th>over_under_milion</th>\n",
       "      <th>discipline</th>\n",
       "    </tr>\n",
       "  </thead>\n",
       "  <tbody>\n",
       "    <tr>\n",
       "      <th>353</th>\n",
       "      <td>male</td>\n",
       "      <td>married</td>\n",
       "      <td>central</td>\n",
       "      <td>master</td>\n",
       "      <td>chanco</td>\n",
       "      <td>2002.0</td>\n",
       "      <td>education_science</td>\n",
       "      <td>self_employed</td>\n",
       "      <td>2001</td>\n",
       "      <td>tuition_stationery</td>\n",
       "      <td>fully_paid</td>\n",
       "      <td>email</td>\n",
       "      <td>oneoff</td>\n",
       "      <td>convenient</td>\n",
       "      <td>effective</td>\n",
       "      <td>neutral</td>\n",
       "      <td>positive</td>\n",
       "      <td>automate the system</td>\n",
       "      <td>satisfied</td>\n",
       "      <td>under</td>\n",
       "      <td>stem</td>\n",
       "    </tr>\n",
       "    <tr>\n",
       "      <th>133</th>\n",
       "      <td>female</td>\n",
       "      <td>married</td>\n",
       "      <td>northern</td>\n",
       "      <td>bachelor</td>\n",
       "      <td>mzuni</td>\n",
       "      <td>2012.0</td>\n",
       "      <td>nursing_and_midwifery</td>\n",
       "      <td>employed_fulltime</td>\n",
       "      <td>2011</td>\n",
       "      <td>tuition_living</td>\n",
       "      <td>fully_paid</td>\n",
       "      <td>inperson</td>\n",
       "      <td>voluntary_monthly</td>\n",
       "      <td>convenient</td>\n",
       "      <td>effective</td>\n",
       "      <td>effective</td>\n",
       "      <td>positive</td>\n",
       "      <td>automate the system</td>\n",
       "      <td>satisfied</td>\n",
       "      <td>under</td>\n",
       "      <td>health sciences</td>\n",
       "    </tr>\n",
       "    <tr>\n",
       "      <th>315</th>\n",
       "      <td>male</td>\n",
       "      <td>single</td>\n",
       "      <td>central</td>\n",
       "      <td>bachelor</td>\n",
       "      <td>mzuni</td>\n",
       "      <td>2011.0</td>\n",
       "      <td>mbbs</td>\n",
       "      <td>employed_fulltime</td>\n",
       "      <td>2010</td>\n",
       "      <td>tuition_living</td>\n",
       "      <td>not_paid</td>\n",
       "      <td>inperson</td>\n",
       "      <td>none</td>\n",
       "      <td>inconvenient</td>\n",
       "      <td>ineffective</td>\n",
       "      <td>neutral</td>\n",
       "      <td>neutral</td>\n",
       "      <td>accountability_reporting</td>\n",
       "      <td>neutral</td>\n",
       "      <td>over</td>\n",
       "      <td>health sciences</td>\n",
       "    </tr>\n",
       "    <tr>\n",
       "      <th>88</th>\n",
       "      <td>male</td>\n",
       "      <td>divorced</td>\n",
       "      <td>central</td>\n",
       "      <td>master</td>\n",
       "      <td>luanar</td>\n",
       "      <td>2015.0</td>\n",
       "      <td>agronomy</td>\n",
       "      <td>employed_fulltime</td>\n",
       "      <td>2014</td>\n",
       "      <td>living</td>\n",
       "      <td>fully_paid</td>\n",
       "      <td>inperson</td>\n",
       "      <td>monthly_salary</td>\n",
       "      <td>convenient</td>\n",
       "      <td>effective</td>\n",
       "      <td>effective</td>\n",
       "      <td>positive</td>\n",
       "      <td>provide multi- language support</td>\n",
       "      <td>neutral</td>\n",
       "      <td>under</td>\n",
       "      <td>stem</td>\n",
       "    </tr>\n",
       "  </tbody>\n",
       "</table>\n",
       "</div>"
      ],
      "text/plain": [
       "     gender marital_status    region highest_education  school  graduation  \\\n",
       "353    male        married   central            master  chanco      2002.0   \n",
       "133  female        married  northern          bachelor   mzuni      2012.0   \n",
       "315    male         single   central          bachelor   mzuni      2011.0   \n",
       "88     male       divorced   central            master  luanar      2015.0   \n",
       "\n",
       "           study_programme  employment_status  last_year_benefitted  \\\n",
       "353      education_science      self_employed                  2001   \n",
       "133  nursing_and_midwifery  employed_fulltime                  2011   \n",
       "315                   mbbs  employed_fulltime                  2010   \n",
       "88                agronomy  employed_fulltime                  2014   \n",
       "\n",
       "           loan_purpose repayment_status repayment_info_source  \\\n",
       "353  tuition_stationery       fully_paid                 email   \n",
       "133      tuition_living       fully_paid              inperson   \n",
       "315      tuition_living         not_paid              inperson   \n",
       "88               living       fully_paid              inperson   \n",
       "\n",
       "      repayment_method repayment_method_convenience  \\\n",
       "353             oneoff                   convenient   \n",
       "133  voluntary_monthly                   convenient   \n",
       "315               none                 inconvenient   \n",
       "88      monthly_salary                   convenient   \n",
       "\n",
       "    effectiveness_repayment_method collection_strategy_effectiveness  \\\n",
       "353                      effective                           neutral   \n",
       "133                      effective                         effective   \n",
       "315                    ineffective                           neutral   \n",
       "88                       effective                         effective   \n",
       "\n",
       "    interaction_quality_on_repayment alternative_collection_strategies  \\\n",
       "353                         positive               automate the system   \n",
       "133                         positive               automate the system   \n",
       "315                          neutral          accountability_reporting   \n",
       "88                          positive   provide multi- language support   \n",
       "\n",
       "    overall_experience_with_loan_process over_under_milion       discipline  \n",
       "353                            satisfied             under             stem  \n",
       "133                            satisfied             under  health sciences  \n",
       "315                              neutral              over  health sciences  \n",
       "88                               neutral             under             stem  "
      ]
     },
     "execution_count": 19,
     "metadata": {},
     "output_type": "execute_result"
    }
   ],
   "source": [
    "sample_2.sample(4)"
   ]
  },
  {
   "cell_type": "code",
   "execution_count": 20,
   "id": "fcb84424-6d2c-4d54-9779-5bea69bc3038",
   "metadata": {},
   "outputs": [],
   "source": [
    "cols_drop = ['alternative_collection_strategies', 'study_programme']\n",
    "sample =  sample.drop(columns=cols_drop)"
   ]
  },
  {
   "cell_type": "code",
   "execution_count": 48,
   "id": "f8d05373-e27b-4d66-a390-9a62b620acce",
   "metadata": {},
   "outputs": [
    {
     "data": {
      "text/plain": [
       "(354, 20)"
      ]
     },
     "execution_count": 48,
     "metadata": {},
     "output_type": "execute_result"
    }
   ],
   "source": [
    "sample.shape"
   ]
  },
  {
   "cell_type": "code",
   "execution_count": 21,
   "id": "5b90ef45-49e1-4c45-8fdf-c82f2e0a2a9f",
   "metadata": {},
   "outputs": [
    {
     "name": "stdout",
     "output_type": "stream",
     "text": [
      "grad year: \n",
      "24\n",
      "last year benefitted: \n",
      "28\n"
     ]
    }
   ],
   "source": [
    "print(\"grad year: \");print(sample.graduation.nunique())\n",
    "print(\"last year benefitted: \");print(sample.last_year_benefitted.nunique())"
   ]
  },
  {
   "cell_type": "code",
   "execution_count": 22,
   "id": "5afe39df-ae41-433f-92b0-5d55273df742",
   "metadata": {},
   "outputs": [
    {
     "data": {
      "text/plain": [
       "Index(['gender', 'marital_status', 'region', 'highest_education', 'school',\n",
       "       'graduation', 'employment_status', 'last_year_benefitted',\n",
       "       'loan_purpose', 'repayment_status', 'repayment_info_source',\n",
       "       'repayment_method', 'repayment_method_convenience',\n",
       "       'effectiveness_repayment_method', 'collection_strategy_effectiveness',\n",
       "       'interaction_quality_on_repayment',\n",
       "       'overall_experience_with_loan_process', 'over_under_milion',\n",
       "       'discipline'],\n",
       "      dtype='object')"
      ]
     },
     "execution_count": 22,
     "metadata": {},
     "output_type": "execute_result"
    }
   ],
   "source": [
    "sample.columns"
   ]
  },
  {
   "cell_type": "code",
   "execution_count": 81,
   "id": "5632d4d6-094e-4d65-b863-c9f8c4be99d2",
   "metadata": {},
   "outputs": [
    {
     "data": {
      "text/plain": [
       "effectiveness_repayment_method\n",
       "ineffective         122\n",
       "effective           106\n",
       "very_effective       75\n",
       "neutral              48\n",
       "very ineffective      3\n",
       "Name: count, dtype: int64"
      ]
     },
     "execution_count": 81,
     "metadata": {},
     "output_type": "execute_result"
    }
   ],
   "source": [
    "sample.effectiveness_repayment_method.value_counts()"
   ]
  },
  {
   "cell_type": "code",
   "execution_count": 84,
   "id": "75915877-62bd-4a4c-904a-c8139f2d168d",
   "metadata": {},
   "outputs": [
    {
     "data": {
      "text/plain": [
       "collection_strategy_effectiveness\n",
       "neutral             151\n",
       "effective           112\n",
       "very_effective       71\n",
       "ineffective          18\n",
       "very ineffective      2\n",
       "Name: count, dtype: int64"
      ]
     },
     "execution_count": 84,
     "metadata": {},
     "output_type": "execute_result"
    }
   ],
   "source": [
    "sample.collection_strategy_effectiveness.value_counts()"
   ]
  },
  {
   "cell_type": "code",
   "execution_count": 87,
   "id": "ee7dbe7f-2097-4565-8fae-b6835235faa0",
   "metadata": {},
   "outputs": [
    {
     "data": {
      "text/plain": [
       "interaction_quality_on_repayment\n",
       "neutral          164\n",
       "positive         100\n",
       "very_positive     75\n",
       "negative          15\n",
       "Name: count, dtype: int64"
      ]
     },
     "execution_count": 87,
     "metadata": {},
     "output_type": "execute_result"
    }
   ],
   "source": [
    "sample.interaction_quality_on_repayment.value_counts()"
   ]
  },
  {
   "cell_type": "code",
   "execution_count": 91,
   "id": "462d17c8-f876-403b-8c17-38c1888b5880",
   "metadata": {},
   "outputs": [
    {
     "data": {
      "text/plain": [
       "overall_experience_with_loan_process\n",
       "neutral              169\n",
       "satisfied             88\n",
       "very satisfied        75\n",
       "dissatisfied          20\n",
       "very dissatisfied      2\n",
       "Name: count, dtype: int64"
      ]
     },
     "execution_count": 91,
     "metadata": {},
     "output_type": "execute_result"
    }
   ],
   "source": [
    "sample.overall_experience_with_loan_process.value_counts()"
   ]
  },
  {
   "cell_type": "code",
   "execution_count": 70,
   "id": "1158bcf9-7e7e-42a9-a543-8773b12bc14c",
   "metadata": {},
   "outputs": [],
   "source": [
    "repayment_ = sample.groupby(['repayment_method_convenience', 'repayment_method', 'repayment_status'])\n",
    "repayment_table = repayment_.size().reset_index().rename(columns={0:'count'}).sort_values(by='count', ascending=False)\n",
    "repayment_table['pct'] = (repayment_table['count'] / repayment_table['count'].sum()) * 100"
   ]
  },
  {
   "cell_type": "code",
   "execution_count": 73,
   "id": "75176a75-b5cd-4522-8df1-9d11447d6722",
   "metadata": {},
   "outputs": [
    {
     "data": {
      "text/html": [
       "<div>\n",
       "<style scoped>\n",
       "    .dataframe tbody tr th:only-of-type {\n",
       "        vertical-align: middle;\n",
       "    }\n",
       "\n",
       "    .dataframe tbody tr th {\n",
       "        vertical-align: top;\n",
       "    }\n",
       "\n",
       "    .dataframe thead th {\n",
       "        text-align: right;\n",
       "    }\n",
       "</style>\n",
       "<table border=\"1\" class=\"dataframe\">\n",
       "  <thead>\n",
       "    <tr style=\"text-align: right;\">\n",
       "      <th></th>\n",
       "      <th>repayment_method_convenience</th>\n",
       "      <th>repayment_method</th>\n",
       "      <th>repayment_status</th>\n",
       "      <th>count</th>\n",
       "      <th>pct</th>\n",
       "    </tr>\n",
       "  </thead>\n",
       "  <tbody>\n",
       "    <tr>\n",
       "      <th>9</th>\n",
       "      <td>inconvenient</td>\n",
       "      <td>none</td>\n",
       "      <td>not_paid</td>\n",
       "      <td>87</td>\n",
       "      <td>24.576271</td>\n",
       "    </tr>\n",
       "    <tr>\n",
       "      <th>7</th>\n",
       "      <td>inconvenient</td>\n",
       "      <td>monthly_salary</td>\n",
       "      <td>fully_paid</td>\n",
       "      <td>1</td>\n",
       "      <td>0.282486</td>\n",
       "    </tr>\n",
       "    <tr>\n",
       "      <th>21</th>\n",
       "      <td>very_convenient</td>\n",
       "      <td>none</td>\n",
       "      <td>not_paid</td>\n",
       "      <td>1</td>\n",
       "      <td>0.282486</td>\n",
       "    </tr>\n",
       "    <tr>\n",
       "      <th>2</th>\n",
       "      <td>convenient</td>\n",
       "      <td>monthly_salary</td>\n",
       "      <td>partially_paid</td>\n",
       "      <td>26</td>\n",
       "      <td>7.344633</td>\n",
       "    </tr>\n",
       "    <tr>\n",
       "      <th>1</th>\n",
       "      <td>convenient</td>\n",
       "      <td>monthly_salary</td>\n",
       "      <td>not_paid</td>\n",
       "      <td>2</td>\n",
       "      <td>0.564972</td>\n",
       "    </tr>\n",
       "  </tbody>\n",
       "</table>\n",
       "</div>"
      ],
      "text/plain": [
       "   repayment_method_convenience repayment_method repayment_status  count  \\\n",
       "9                  inconvenient             none         not_paid     87   \n",
       "7                  inconvenient   monthly_salary       fully_paid      1   \n",
       "21              very_convenient             none         not_paid      1   \n",
       "2                    convenient   monthly_salary   partially_paid     26   \n",
       "1                    convenient   monthly_salary         not_paid      2   \n",
       "\n",
       "          pct  \n",
       "9   24.576271  \n",
       "7    0.282486  \n",
       "21   0.282486  \n",
       "2    7.344633  \n",
       "1    0.564972  "
      ]
     },
     "execution_count": 73,
     "metadata": {},
     "output_type": "execute_result"
    }
   ],
   "source": [
    "repayment_table.sample(5)"
   ]
  },
  {
   "cell_type": "code",
   "execution_count": 72,
   "id": "0a0e29dd-9098-4205-8dd6-f2b9352f12ac",
   "metadata": {},
   "outputs": [
    {
     "data": {
      "text/plain": [
       "<seaborn.axisgrid.FacetGrid at 0x25bc367d580>"
      ]
     },
     "execution_count": 72,
     "metadata": {},
     "output_type": "execute_result"
    },
    {
     "data": {
      "image/png": "[encoded data removed]",
      "text/plain": [
       "<Figure size 500x500 with 1 Axes>"
      ]
     },
     "metadata": {},
     "output_type": "display_data"
    }
   ],
   "source": [
    "sns.relplot(data=repayment_table, x='count', y='pct')"
   ]
  },
  {
   "cell_type": "code",
   "execution_count": 59,
   "id": "e577c2dc-ce17-4510-8d26-6c914b5826d1",
   "metadata": {},
   "outputs": [
    {
     "data": {
      "text/plain": [
       "repayment_method_convenience\n",
       "inconvenient         112\n",
       "convenient            91\n",
       "very_convenient       76\n",
       "neutral               73\n",
       "very_inconvenient      2\n",
       "Name: count, dtype: int64"
      ]
     },
     "execution_count": 59,
     "metadata": {},
     "output_type": "execute_result"
    }
   ],
   "source": [
    "sample.repayment_method_convenience.value_counts()"
   ]
  },
  {
   "cell_type": "code",
   "execution_count": 54,
   "id": "5b5ac4f0-95d5-4f68-ac29-4a7d6b793467",
   "metadata": {},
   "outputs": [
    {
     "data": {
      "text/plain": [
       "repayment_method\n",
       "monthly_salary       182\n",
       "none                 108\n",
       "voluntary_monthly     46\n",
       "oneoff                18\n",
       "Name: count, dtype: int64"
      ]
     },
     "execution_count": 54,
     "metadata": {},
     "output_type": "execute_result"
    }
   ],
   "source": [
    "sample.repayment_method.value_counts()"
   ]
  },
  {
   "cell_type": "code",
   "execution_count": 36,
   "id": "20f078c9-e475-4c2e-852b-c56edde042a7",
   "metadata": {},
   "outputs": [],
   "source": [
    "sample['school'] = sample['school'].replace({'com ':'com', 'chanco ':'chanco'})\n"
   ]
  },
  {
   "cell_type": "code",
   "execution_count": 42,
   "id": "cabee2e3-2d84-4011-9197-f89b8b7c35fa",
   "metadata": {},
   "outputs": [],
   "source": [
    "sample['employment_status'] = sample['employment_status'].replace({'employed_fulltime':'fulltime', 'employed_parttime':'parttime'})"
   ]
  },
  {
   "cell_type": "code",
   "execution_count": 50,
   "id": "ccf3472e-d2e8-44ac-b554-e65638e2e767",
   "metadata": {},
   "outputs": [
    {
     "data": {
      "text/plain": [
       "loan_purpose\n",
       "tuition_living               231\n",
       "tuition_living_stationery     35\n",
       "tuition                       34\n",
       "living                        34\n",
       "tuition_stationery            10\n",
       "living_stationery              6\n",
       "stationery                     4\n",
       "Name: count, dtype: int64"
      ]
     },
     "execution_count": 50,
     "metadata": {},
     "output_type": "execute_result"
    }
   ],
   "source": [
    "sample.loan_purpose.value_counts()"
   ]
  },
  {
   "cell_type": "code",
   "execution_count": 78,
   "id": "93d2ea6c-2b35-41e7-8aee-65d39202b8e5",
   "metadata": {},
   "outputs": [
    {
     "data": {
      "text/plain": [
       "10"
      ]
     },
     "execution_count": 78,
     "metadata": {},
     "output_type": "execute_result"
    }
   ],
   "source": [
    "sample.repayment_info_source.nunique()"
   ]
  },
  {
   "cell_type": "code",
   "execution_count": null,
   "id": "a14b0654-e6ad-4994-9216-935f903b1137",
   "metadata": {},
   "outputs": [],
   "source": [
    "crbreport, employer, email_phonecall, phonecall_inperson, inperson, email_phonecall_inperson, email,\n",
    "email_inperson, none, phonecall, inperson_employer, email_inperson_employer, \n",
    "phonecall_inperson_employer, letter, media, sms, email_sms, posters, phonecall_employer, socialmedia"
   ]
  },
  {
   "cell_type": "code",
   "execution_count": 77,
   "id": "54d33263-d38f-4ff7-9310-749b24b1e898",
   "metadata": {},
   "outputs": [],
   "source": [
    "sample.loc[sample['repayment_info_source'].str.contains('email_phonecall|phonecall_inperson| email_phonecall_inperson|phonecall|phonecall_inperson_employer|sms', case=False), 'repayment_info_source'] = 'phone'\n",
    "sample.loc[sample['repayment_info_source'].str.contains('employer', case=False), 'repayment_info_source'] = 'employer'\n",
    "sample.loc[sample['repayment_info_source'].str.contains('media', case=False), 'repayment_info_source'] = 'socialmedia'"
   ]
  },
  {
   "cell_type": "code",
   "execution_count": 51,
   "id": "006fe718-9ae1-4e03-9270-19526465f677",
   "metadata": {},
   "outputs": [
    {
     "data": {
      "image/png": "[encoded data removed]",
      "text/plain": [
       "<Figure size 640x480 with 1 Axes>"
      ]
     },
     "metadata": {},
     "output_type": "display_data"
    }
   ],
   "source": [
    "sns.histplot(data=sample, x='repayment_info_source')\n",
    "plt.xticks(rotation=90, ha='right')\n",
    "plt.show()"
   ]
  },
  {
   "cell_type": "code",
   "execution_count": null,
   "id": "240856dd-37d8-42a8-b777-a7d27069402e",
   "metadata": {},
   "outputs": [],
   "source": [
    "sample.to_csv('')"
   ]
  }
 ],
 "metadata": {
  "kernelspec": {
   "display_name": "Python 3 (ipykernel)",
   "language": "python",
   "name": "python3"
  },
  "language_info": {
   "codemirror_mode": {
    "name": "ipython",
    "version": 3
   },
   "file_extension": ".py",
   "mimetype": "text/x-python",
   "name": "python",
   "nbconvert_exporter": "python",
   "pygments_lexer": "ipython3",
   "version": "3.12.4"
  }
 },
 "nbformat": 4,
 "nbformat_minor": 5
}
