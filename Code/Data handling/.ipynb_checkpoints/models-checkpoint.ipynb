{
 "cells": [
  {
   "cell_type": "code",
   "execution_count": 1,
   "id": "02c6c536-50b3-422b-af35-ce042f1c2c42",
   "metadata": {},
   "outputs": [],
   "source": [
    "import pandas as pd \n",
    "import numpy as np"
   ]
  },
  {
   "cell_type": "code",
   "execution_count": 10,
   "id": "34aa7995-fb93-45dd-a6bc-46a5a2fbb91a",
   "metadata": {},
   "outputs": [],
   "source": [
    "from sklearn.feature_selection import SelectKBest\n",
    "from sklearn.feature_selection import chi2\n",
    "from sklearn.model_selection import train_test_split\n",
    "from sklearn.model_selection import train_test_split"
   ]
  },
  {
   "cell_type": "code",
   "execution_count": 5,
   "id": "35fa826c-88cb-44a4-aa0c-624c0f13c118",
   "metadata": {},
   "outputs": [],
   "source": [
    "data = pd.read_csv('sample_pending_feature_selection.csv', encoding='windows-1256')"
   ]
  },
  {
   "cell_type": "code",
   "execution_count": 11,
   "id": "61b9110b-34cd-4c18-9c85-a5ea1190d20d",
   "metadata": {},
   "outputs": [],
   "source": [
    "X = data.drop(columns='repayment_status')"
   ]
  },
  {
   "cell_type": "code",
   "execution_count": 12,
   "id": "0b065f30-8b40-4886-8953-81d3e4cfe7ae",
   "metadata": {},
   "outputs": [],
   "source": [
    "y = data.repayment_status"
   ]
  },
  {
   "cell_type": "code",
   "execution_count": 13,
   "id": "f87d06e3-527b-4056-b9b9-70c78f221cb2",
   "metadata": {},
   "outputs": [],
   "source": [
    "X_train, X_test, y_train, y_test = train_test_split(X, y, test_size=0.33, random_state=1)"
   ]
  },
  {
   "cell_type": "code",
   "execution_count": 6,
   "id": "1711de84-95ab-4601-b70d-cdda1a81eed5",
   "metadata": {},
   "outputs": [],
   "source": [
    "pd.set_option('display.max_rows', None)\n",
    "pd.set_option('display.max_columns', None)"
   ]
  },
  {
   "cell_type": "markdown",
   "id": "75dc7e29-6b99-4218-9b8c-1671ee2f034e",
   "metadata": {},
   "source": [
    "## feature selection"
   ]
  },
  {
   "cell_type": "markdown",
   "id": "76d26cc8-63ed-4740-93e9-cd0a191a0293",
   "metadata": {},
   "source": [
    "## square statistic"
   ]
  },
  {
   "cell_type": "code",
   "execution_count": 16,
   "id": "71b186df-14c0-499f-b252-3b457a761e1f",
   "metadata": {},
   "outputs": [],
   "source": [
    "import seaborn as sns\n",
    "from matplotlib import pyplot as plt"
   ]
  },
  {
   "cell_type": "code",
   "execution_count": 22,
   "id": "ce14db82-b6f9-46cc-a27c-ad7c81be3451",
   "metadata": {},
   "outputs": [],
   "source": [
    "fs = SelectKBest(score_func=chi2, k=26)\n",
    "fs.fit(X_train, y_train)\n",
    "X_train_fs = fs.transform(X_train)\n",
    "X_test_fs = fs.transform(X_test)"
   ]
  },
  {
   "cell_type": "code",
   "execution_count": 28,
   "id": "1319da39-fe42-4e26-aa15-2a9fe2bc456a",
   "metadata": {},
   "outputs": [],
   "source": [
    "for i in range(len(fs.scores_)):\n",
    "\tprint('Feature %d: %f' % (i, fs.scores_[i]))\n",
    "plt.bar([i for i in range(len(fs.scores_))], fs.scores_)\n",
    "plt.show()"
   ]
  },
  {
   "cell_type": "markdown",
   "id": "68891036-743a-44db-b909-7ac5b6767aa2",
   "metadata": {},
   "source": [
    "## Decision Tree classifier"
   ]
  },
  {
   "cell_type": "code",
   "execution_count": null,
   "id": "e5b187e5-39e8-4aea-9772-e36b33476f44",
   "metadata": {},
   "outputs": [],
   "source": [
    "from sklearn.model_selection import train_test_split\n",
    "from sklearn.tree import DecisionTreeClassifier\n",
    "from sklearn.metrics import accuracy_score, classification_report, confusion_matrix\n",
    "\n",
    "# Tree classifier training\n",
    "clf = DecisionTreeClassifier(random_state=42)\n",
    "clf.fit(X_train_fs, y_train)\n",
    "\n",
    "# generalization test\n",
    "y_pred = clf.predict(X_test_fs)\n",
    "\n",
    "# model evaluation\n",
    "accuracy = accuracy_score(y_test, y_pred)\n",
    "print(\"Accuracy:\", accuracy)\n",
    "print(\"Classification Report:\")\n",
    "print(classification_report(y_test, y_pred))\n",
    "print(\"Confusion Matrix:\")\n",
    "print(confusion_matrix(y_test, y_pred))"
   ]
  },
  {
   "cell_type": "code",
   "execution_count": null,
   "id": "a9707fd1-ccad-4a86-87e6-457f55c7e2f0",
   "metadata": {},
   "outputs": [],
   "source": [
    "from sklearn.datasets import load_iris\n",
    "from sklearn.model_selection import train_test_split\n",
    "from sklearn.naive_bayes import GaussianNB\n",
    "X, y = load_iris(return_X_y=True)\n",
    "X_train, X_test, y_train, y_test = train_test_split(X, y, test_size=0.5, random_state=0)\n",
    "gnb = GaussianNB()\n",
    "y_pred = gnb.fit(X_train, y_train).predict(X_test)\n",
    "print(\"Number of mislabeled points out of a total %d points : %d\"\n",
    "      % (X_test.shape[0], (y_test != y_pred).sum()))"
   ]
  },
  {
   "cell_type": "code",
   "execution_count": 1,
   "id": "2fec4a61-fa8c-4b3c-8625-4a3b10e1dc49",
   "metadata": {},
   "outputs": [],
   "source": [
    "from sklearn.naive_bayes import CategoricalNB\n",
    "clf = CategoricalNB()\n",
    "clf.fit(X_train_fs, y)\n",
    "CategoricalNB()\n",
    "print(clf.predict(X[2:3]))"
   ]
  },
  {
   "cell_type": "code",
   "execution_count": null,
   "id": "285e7047-ed4e-4f72-b96b-43abce477f58",
   "metadata": {},
   "outputs": [],
   "source": [
    "  # display confusion matrix\n",
    "  from sklearn.metrics import confusion_matrix\n",
    "  y_predicteds = model.predict(test_x)\n",
    "  cm = confusion_matrix(test_y, y_predicteds)\n",
    "  print(\"Confusion matrix: \")\n",
    "  print(cm)"
   ]
  }
 ],
 "metadata": {
  "kernelspec": {
   "display_name": "Python 3 (ipykernel)",
   "language": "python",
   "name": "python3"
  },
  "language_info": {
   "codemirror_mode": {
    "name": "ipython",
    "version": 3
   },
   "file_extension": ".py",
   "mimetype": "text/x-python",
   "name": "python",
   "nbconvert_exporter": "python",
   "pygments_lexer": "ipython3",
   "version": "3.12.4"
  }
 },
 "nbformat": 4,
 "nbformat_minor": 5
}
