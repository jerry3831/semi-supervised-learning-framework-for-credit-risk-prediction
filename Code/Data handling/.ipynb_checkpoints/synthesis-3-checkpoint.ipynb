{
 "cells": [
  {
   "cell_type": "code",
   "execution_count": 1,
   "id": "e78fb2d9-f5b9-4227-b17a-35cfb0ccac78",
   "metadata": {},
   "outputs": [],
   "source": [
    "import pandas as pd\n",
    "import numpy as np \n",
    "from matplotlib import pyplot as plt"
   ]
  },
  {
   "cell_type": "code",
   "execution_count": 4,
   "id": "f66a93e5-f82a-4612-ac44-0c5b3e97f8d4",
   "metadata": {},
   "outputs": [],
   "source": [
    "pd.set_option('display.max_columns',None)\n",
    "pd.set_option('display.max_rows',None)"
   ]
  },
  {
   "cell_type": "code",
   "execution_count": 9,
   "id": "998de05e-c660-46c5-8fcc-7734fe3241e5",
   "metadata": {},
   "outputs": [],
   "source": [
    "data = pd.read_csv('sample.csv')"
   ]
  },
  {
   "cell_type": "code",
   "execution_count": 10,
   "id": "781367c4-9358-487c-a8c2-e35d2fdc5eed",
   "metadata": {},
   "outputs": [
    {
     "data": {
      "text/plain": [
       "gender                                  0\n",
       "marital_status                          0\n",
       "region                                  0\n",
       "highest_education                       0\n",
       "school                                  0\n",
       "graduation                              0\n",
       "study_programme                         0\n",
       "employment_status                       0\n",
       "last_year_benefitted                    0\n",
       "total_loan                              0\n",
       "loan_purpose                            0\n",
       "repayment_status                        0\n",
       "repayment_info_source                   0\n",
       "repayment_method                        0\n",
       "repayment_method_convenience            0\n",
       "effectiveness_repayment_method          0\n",
       "collection_strategy_effectiveness       0\n",
       "interaction_quality_on_repayment        0\n",
       "alternative_collection_strategies       0\n",
       "overall_experience_with_loan_process    0\n",
       "age_group                               0\n",
       "dtype: int64"
      ]
     },
     "execution_count": 10,
     "metadata": {},
     "output_type": "execute_result"
    }
   ],
   "source": [
    "data.isnull().sum()"
   ]
  }
 ],
 "metadata": {
  "kernelspec": {
   "display_name": "Python 3 (ipykernel)",
   "language": "python",
   "name": "python3"
  },
  "language_info": {
   "codemirror_mode": {
    "name": "ipython",
    "version": 3
   },
   "file_extension": ".py",
   "mimetype": "text/x-python",
   "name": "python",
   "nbconvert_exporter": "python",
   "pygments_lexer": "ipython3",
   "version": "3.12.4"
  }
 },
 "nbformat": 4,
 "nbformat_minor": 5
}
