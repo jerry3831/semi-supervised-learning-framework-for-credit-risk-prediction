{
 "cells": [
  {
   "cell_type": "code",
   "execution_count": 1,
   "id": "d104a00c-293b-49ca-8932-3b77276248de",
   "metadata": {},
   "outputs": [],
   "source": [
    "import pandas as pd\n",
    "import numpy as np"
   ]
  },
  {
   "cell_type": "code",
   "execution_count": 51,
   "id": "089be7e1-78aa-4c3d-8d1c-bc7574893882",
   "metadata": {},
   "outputs": [],
   "source": [
    "pd.set_option('display.max_columns', None)\n",
    "pd.set_option('display.max_rows', None)"
   ]
  },
  {
   "cell_type": "code",
   "execution_count": 31,
   "id": "e96e33c1-a666-46f8-9586-2062b8e44b44",
   "metadata": {},
   "outputs": [],
   "source": [
    "data = pd.read_csv('sample_X1.csv')"
   ]
  },
  {
   "cell_type": "code",
   "execution_count": 32,
   "id": "eec0d695-b6a0-4408-9d35-4d74b4b7b498",
   "metadata": {},
   "outputs": [
    {
     "data": {
      "text/plain": [
       "35"
      ]
     },
     "execution_count": 32,
     "metadata": {},
     "output_type": "execute_result"
    }
   ],
   "source": [
    "data.shape[1]"
   ]
  },
  {
   "cell_type": "code",
   "execution_count": 33,
   "id": "683eb63e-f6a1-4e9e-ae71-af78bf70a223",
   "metadata": {},
   "outputs": [],
   "source": [
    "sample = data.copy()"
   ]
  },
  {
   "cell_type": "code",
   "execution_count": 39,
   "id": "91b167ad-a9e7-4e1e-8403-b9ed914eae2a",
   "metadata": {},
   "outputs": [],
   "source": [
    "from imblearn.over_sampling import SMOTENC"
   ]
  },
  {
   "cell_type": "code",
   "execution_count": 40,
   "id": "f877665e-7310-46fd-a850-9d37f133e659",
   "metadata": {},
   "outputs": [],
   "source": [
    "y = sample['repayment_status']\n",
    "X = sample.drop(columns='repayment_status')"
   ]
  },
  {
   "cell_type": "code",
   "execution_count": 42,
   "id": "398a5418-2516-4b98-806e-cb5da7c2e102",
   "metadata": {},
   "outputs": [],
   "source": [
    "# # Apply SMOTENC\n",
    "# smotenc = SMOTENC(categorical_features=sample.columns, random_state=42)\n",
    "# X_res, y_res = smotenc.fit_resample(X, y)\n",
    "\n",
    "# print(\"Original class distribution:\", y.value_counts())\n",
    "# print(\"Resampled class distribution:\", y_res.value_counts())"
   ]
  },
  {
   "cell_type": "code",
   "execution_count": 43,
   "id": "b3e37406-7a22-413c-baba-26ffd4673f34",
   "metadata": {},
   "outputs": [
    {
     "name": "stderr",
     "output_type": "stream",
     "text": [
      "C:\\Users\\USER\\anaconda3\\Lib\\site-packages\\sklearn\\base.py:474: FutureWarning: `BaseEstimator._validate_data` is deprecated in 1.6 and will be removed in 1.7. Use `sklearn.utils.validation.validate_data` instead. This function becomes public and is part of the scikit-learn developer API.\n",
      "  warnings.warn(\n"
     ]
    },
    {
     "name": "stdout",
     "output_type": "stream",
     "text": [
      "Original class distribution: repayment_status\n",
      "0    156\n",
      "1    112\n",
      "2     86\n",
      "Name: count, dtype: int64\n",
      "Resampled class distribution: repayment_status\n",
      "0    156\n",
      "1    156\n",
      "2    156\n",
      "Name: count, dtype: int64\n"
     ]
    }
   ],
   "source": [
    "from imblearn.over_sampling import BorderlineSMOTE\n",
    "\n",
    "# Apply Borderline SMOTE\n",
    "bsmote = BorderlineSMOTE(random_state=42)\n",
    "X_res, y_res = bsmote.fit_resample(X, sample['repayment_status'])\n",
    "\n",
    "print(\"Original class distribution:\", sample['repayment_status'].value_counts())\n",
    "print(\"Resampled class distribution:\", y_res.value_counts())"
   ]
  },
  {
   "cell_type": "code",
   "execution_count": 46,
   "id": "5cbc70fa-d225-42d2-a13d-fe96199b65c0",
   "metadata": {},
   "outputs": [],
   "source": [
    "sample2 = pd.concat([X_res, y_res], axis=1)"
   ]
  },
  {
   "cell_type": "code",
   "execution_count": 53,
   "id": "69fda2fb-ede5-4e21-a143-4be56516cb0a",
   "metadata": {},
   "outputs": [],
   "source": [
    "sample2.to_csv('borderlineSMOTE_sythetic_sample.csv')"
   ]
  },
  {
   "cell_type": "code",
   "execution_count": 48,
   "id": "c82f2ac5-d531-44c3-a03c-fd9af29674d2",
   "metadata": {},
   "outputs": [],
   "source": [
    "sample3 = pd.concat([sample, sample2], axis=0)"
   ]
  },
  {
   "cell_type": "code",
   "execution_count": 54,
   "id": "213a6825-68ec-4e43-bb06-c15220b7a3d6",
   "metadata": {},
   "outputs": [
    {
     "data": {
      "text/plain": [
       "(822, 35)"
      ]
     },
     "execution_count": 54,
     "metadata": {},
     "output_type": "execute_result"
    }
   ],
   "source": [
    "sample3.shape"
   ]
  }
 ],
 "metadata": {
  "kernelspec": {
   "display_name": "Python 3 (ipykernel)",
   "language": "python",
   "name": "python3"
  },
  "language_info": {
   "codemirror_mode": {
    "name": "ipython",
    "version": 3
   },
   "file_extension": ".py",
   "mimetype": "text/x-python",
   "name": "python",
   "nbconvert_exporter": "python",
   "pygments_lexer": "ipython3",
   "version": "3.12.4"
  }
 },
 "nbformat": 4,
 "nbformat_minor": 5
}
