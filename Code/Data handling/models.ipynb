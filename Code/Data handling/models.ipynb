{
 "cells": [
  {
   "cell_type": "code",
   "execution_count": 2,
   "id": "02c6c536-50b3-422b-af35-ce042f1c2c42",
   "metadata": {},
   "outputs": [],
   "source": [
    "import pandas as pd \n",
    "import numpy as np"
   ]
  },
  {
   "cell_type": "code",
   "execution_count": 3,
   "id": "34aa7995-fb93-45dd-a6bc-46a5a2fbb91a",
   "metadata": {},
   "outputs": [],
   "source": [
    "from sklearn.feature_selection import SelectKBest\n",
    "from sklearn.feature_selection import chi2\n",
    "from sklearn.model_selection import train_test_split\n",
    "from sklearn.model_selection import train_test_split"
   ]
  },
  {
   "cell_type": "code",
   "execution_count": 4,
   "id": "35fa826c-88cb-44a4-aa0c-624c0f13c118",
   "metadata": {},
   "outputs": [],
   "source": [
    "data = pd.read_csv('sample_pending_feature_selection.csv', encoding='windows-1256')"
   ]
  },
  {
   "cell_type": "code",
   "execution_count": 5,
   "id": "61b9110b-34cd-4c18-9c85-a5ea1190d20d",
   "metadata": {},
   "outputs": [],
   "source": [
    "X = data.drop(columns='repayment_status')"
   ]
  },
  {
   "cell_type": "code",
   "execution_count": 6,
   "id": "0b065f30-8b40-4886-8953-81d3e4cfe7ae",
   "metadata": {},
   "outputs": [],
   "source": [
    "y = data.repayment_status"
   ]
  },
  {
   "cell_type": "code",
   "execution_count": 7,
   "id": "f87d06e3-527b-4056-b9b9-70c78f221cb2",
   "metadata": {},
   "outputs": [],
   "source": [
    "X_train, X_test, y_train, y_test = train_test_split(X, y, test_size=0.33, random_state=1)"
   ]
  },
  {
   "cell_type": "code",
   "execution_count": 8,
   "id": "1711de84-95ab-4601-b70d-cdda1a81eed5",
   "metadata": {},
   "outputs": [],
   "source": [
    "pd.set_option('display.max_rows', None)\n",
    "pd.set_option('display.max_columns', None)"
   ]
  },
  {
   "cell_type": "markdown",
   "id": "75dc7e29-6b99-4218-9b8c-1671ee2f034e",
   "metadata": {},
   "source": [
    "## feature selection"
   ]
  },
  {
   "cell_type": "markdown",
   "id": "76d26cc8-63ed-4740-93e9-cd0a191a0293",
   "metadata": {},
   "source": [
    "## square statistic"
   ]
  },
  {
   "cell_type": "code",
   "execution_count": 13,
   "id": "71b186df-14c0-499f-b252-3b457a761e1f",
   "metadata": {},
   "outputs": [],
   "source": [
    "import seaborn as sns\n",
    "from matplotlib import pyplot as plt"
   ]
  },
  {
   "cell_type": "code",
   "execution_count": 9,
   "id": "ce14db82-b6f9-46cc-a27c-ad7c81be3451",
   "metadata": {},
   "outputs": [],
   "source": [
    "fs = SelectKBest(score_func=chi2, k=26)\n",
    "fs.fit(X_train, y_train)\n",
    "X_train_fs = fs.transform(X_train)\n",
    "X_test_fs = fs.transform(X_test)"
   ]
  },
  {
   "cell_type": "code",
   "execution_count": 28,
   "id": "1319da39-fe42-4e26-aa15-2a9fe2bc456a",
   "metadata": {},
   "outputs": [],
   "source": [
    "for i in range(len(fs.scores_)):\n",
    "\tprint('Feature %d: %f' % (i, fs.scores_[i]))\n",
    "plt.bar([i for i in range(len(fs.scores_))], fs.scores_)\n",
    "plt.show()"
   ]
  },
  {
   "cell_type": "markdown",
   "id": "68891036-743a-44db-b909-7ac5b6767aa2",
   "metadata": {},
   "source": [
    "## Decision Tree classifier"
   ]
  },
  {
   "cell_type": "code",
   "execution_count": 10,
   "id": "e5b187e5-39e8-4aea-9772-e36b33476f44",
   "metadata": {},
   "outputs": [
    {
     "name": "stdout",
     "output_type": "stream",
     "text": [
      "Accuracy: 0.967654986522911\n",
      "Classification Report:\n",
      "              precision    recall  f1-score   support\n",
      "\n",
      "           0       0.95      0.95      0.95       132\n",
      "           1       1.00      1.00      1.00       115\n",
      "           2       0.95      0.95      0.95       124\n",
      "\n",
      "    accuracy                           0.97       371\n",
      "   macro avg       0.97      0.97      0.97       371\n",
      "weighted avg       0.97      0.97      0.97       371\n",
      "\n",
      "Confusion Matrix:\n",
      "[[126   0   6]\n",
      " [  0 115   0]\n",
      " [  6   0 118]]\n"
     ]
    }
   ],
   "source": [
    "from sklearn.model_selection import train_test_split\n",
    "from sklearn.tree import DecisionTreeClassifier\n",
    "from sklearn.metrics import accuracy_score, classification_report, confusion_matrix\n",
    "\n",
    "# Tree classifier training\n",
    "clf = DecisionTreeClassifier(random_state=42)\n",
    "clf.fit(X_train_fs, y_train)\n",
    "\n",
    "# generalization test\n",
    "y_pred = clf.predict(X_test_fs)\n",
    "\n",
    "# model evaluation\n",
    "accuracy = accuracy_score(y_test, y_pred)\n",
    "print(\"Accuracy:\", accuracy)\n",
    "print(\"Classification Report:\")\n",
    "print(classification_report(y_test, y_pred))\n",
    "print(\"Confusion Matrix:\")\n",
    "print(confusion_matrix(y_test, y_pred))"
   ]
  },
  {
   "cell_type": "code",
   "execution_count": 11,
   "id": "a7cd9384-e77f-4fb2-be6a-7ecc8712de97",
   "metadata": {},
   "outputs": [],
   "source": [
    "cm = confusion_matrix(y_test, y_pred)"
   ]
  },
  {
   "cell_type": "code",
   "execution_count": 14,
   "id": "50af40b7-512f-414e-978e-4599ee7d4600",
   "metadata": {},
   "outputs": [
    {
     "data": {
      "image/png": "[encoded data removed]",
      "text/plain": [
       "<Figure size 1000x800 with 2 Axes>"
      ]
     },
     "metadata": {},
     "output_type": "display_data"
    }
   ],
   "source": [
    "plt.figure(figsize=(10, 8))\n",
    "sns.heatmap(cm, annot=True, cmap=\"Blues\", fmt=\"d\")\n",
    "plt.xlabel(\"Predicted labels\")\n",
    "plt.ylabel(\"True labels\")\n",
    "plt.title(\"Confusion Matrix\")\n",
    "plt.show()"
   ]
  },
  {
   "cell_type": "markdown",
   "id": "27322c2a-a341-4028-b486-4a5b5d475c11",
   "metadata": {},
   "source": [
    "## random forest classifier used for self training"
   ]
  },
  {
   "cell_type": "code",
   "execution_count": null,
   "id": "8314dc06-ba43-4808-9438-0ebd66194c9f",
   "metadata": {},
   "outputs": [],
   "source": [
    "import pandas as pd\n",
    "from sklearn.model_selection import train_test_split\n",
    "from sklearn.metrics import accuracy_score\n",
    "from sklearn.ensemble import RandomForestClassifier\n",
    "from tensorflow.keras.models import Sequential\n",
    "from tensorflow.keras.layers import Dense\n",
    "import numpy as np\n",
    "\n",
    "# Assuming df is your DataFrame with 26 features and 1 target variable\n",
    "df = pd.read_csv('your_data.csv')\n",
    "\n",
    "# Split data into labeled and unlabeled sets\n",
    "labeled_df = df.dropna(subset=['target'])  # assuming target variable is not null for labeled data\n",
    "unlabeled_df = df[df['target'].isnull()]\n",
    "\n",
    "# Split labeled data into training and testing sets\n",
    "X_train, X_test, y_train, y_test = train_test_split(labeled_df.drop('target', axis=1), labeled_df['target'], test_size=0.2, random_state=42)\n",
    "\n",
    "# Train an initial model on the labeled data\n",
    "model = RandomForestClassifier(random_state=42)\n",
    "model.fit(X_train, y_train)\n",
    "\n",
    "# Evaluate the model on the test set\n",
    "y_pred = model.predict(X_test)\n",
    "print(\"Initial Model Accuracy:\", accuracy_score(y_test, y_pred))\n",
    "\n",
    "# Self-training loop\n",
    "for _ in range(5):  # number of iterations\n",
    "    # Predict labels for unlabeled data\n",
    "    unlabeled_pred = model.predict(unlabeled_df.drop('target', axis=1))\n",
    "    unlabeled_pred_proba = model.predict_proba(unlabeled_df.drop('target', axis=1))\n",
    "    \n",
    "    # Select predicted labels with high confidence\n",
    "    confidence_threshold = 0.8\n",
    "    confident_pred = np.max(unlabeled_pred_proba, axis=1) > confidence_threshold\n",
    "    new_labeled_data = unlabeled_df[confident_pred]\n",
    "    new_labeled_data['target'] = unlabeled_pred[confident_pred]\n",
    "    \n",
    "    # Add new labeled data to the existing labeled dataset\n",
    "    labeled_df = pd.concat([labeled_df, new_labeled_data])\n",
    "    \n",
    "    # Remove new labeled data from the unlabeled dataset\n",
    "    unlabeled_df = unlabeled_df[~confident_pred]\n",
    "    \n",
    "    # Retrain the model on the updated labeled dataset\n",
    "    X_train, X_test, y_train, y_test = train_test_split(labeled_df.drop('target', axis=1), labeled_df['target'], test_size=0.2, random_state=42)\n",
    "    model.fit(X_train, y_train)\n",
    "    \n",
    "    # Evaluate the model on the test set\n",
    "    y_pred = model.predict(X_test)\n",
    "    print(\"Model Accuracy after self-training:\", accuracy_score(y_test, y_pred))\n",
    "\n",
    "# Using Neural Network\n",
    "model_nn = Sequential()\n",
    "model_nn.add(Dense(64, activation='relu', input_shape=(26,)))\n",
    "model_nn.add(Dense(32, activation='relu'))\n",
    "model_nn.add(Dense(len(labeled_df['target'].unique()), activation='softmax'))\n",
    "model_nn.compile(loss='sparse_categorical_crossentropy', optimizer='adam', metrics=['accuracy'])\n",
    "\n",
    "# Train the neural network model on the labeled data\n",
    "model_nn.fit(X_train, y_train, epochs=10, batch_size=32, validation_data=(X_test, y_test))\n",
    "\n",
    "# Self-training loop for neural network\n",
    "for _ in range(5):  # number of iterations\n",
    "    # Predict labels for unlabeled data\n",
    "    unlabeled_pred_proba = model_nn.predict(unlabeled_df.drop('target', axis=1))\n",
    "    unlabeled_pred = np.argmax(unlabeled_pred_proba, axis=1)\n",
    "    \n",
    "    # Select predicted labels with high confidence\n",
    "    confidence_threshold = 0.8\n",
    "    confident_pred = np.max(unlabeled_pred_proba, axis=1) > confidence_threshold\n",
    "    new_labeled_data = unlabeled_df[confident_pred]\n",
    "    new_labeled_data['target'] = unlabeled_pred[confident_pred]\n",
    "    \n",
    "    # Add new labeled data to the existing labeled dataset\n",
    "    labeled_df = pd.concat([labeled_df, new_labeled_data])\n",
    "    \n",
    "    # Remove new labeled data from the unlabeled dataset\n",
    "    unlabeled_df = unlabeled_df[~confident_pred]\n",
    "    \n",
    "    # Retrain the model on the updated labeled dataset\n",
    "    X_train, X_test, y_train, y_test = train_test_split(labeled_df.drop('target', axis=1), labeled_df['target'], test_size=0.2, random_state=42)\n",
    "    model_nn.fit(X_train, y_train, epochs=10, batch_size=32, validation_data=(X_test, y_test))\n",
    "    \n",
    "    # Evaluate the model on the test set\n",
    "    test_loss, test_acc = model_nn.evaluate(X_test, y_test)\n",
    "    print(\"Neural Network Model Accuracy after self-training:\", test_acc)"
   ]
  },
  {
   "cell_type": "code",
   "execution_count": null,
   "id": "a9707fd1-ccad-4a86-87e6-457f55c7e2f0",
   "metadata": {},
   "outputs": [],
   "source": [
    "from sklearn.datasets import load_iris\n",
    "from sklearn.model_selection import train_test_split\n",
    "from sklearn.naive_bayes import GaussianNB\n",
    "X, y = load_iris(return_X_y=True)\n",
    "X_train, X_test, y_train, y_test = train_test_split(X, y, test_size=0.5, random_state=0)\n",
    "gnb = GaussianNB()\n",
    "y_pred = gnb.fit(X_train, y_train).predict(X_test)\n",
    "print(\"Number of mislabeled points out of a total %d points : %d\"\n",
    "      % (X_test.shape[0], (y_test != y_pred).sum()))"
   ]
  },
  {
   "cell_type": "code",
   "execution_count": 1,
   "id": "2fec4a61-fa8c-4b3c-8625-4a3b10e1dc49",
   "metadata": {},
   "outputs": [],
   "source": [
    "from sklearn.naive_bayes import CategoricalNB\n",
    "clf = CategoricalNB()\n",
    "clf.fit(X_train_fs, y)\n",
    "CategoricalNB()\n",
    "print(clf.predict(X[2:3]))"
   ]
  },
  {
   "cell_type": "code",
   "execution_count": null,
   "id": "285e7047-ed4e-4f72-b96b-43abce477f58",
   "metadata": {},
   "outputs": [],
   "source": [
    "  # display confusion matrix\n",
    "  from sklearn.metrics import confusion_matrix\n",
    "  y_predicteds = model.predict(test_x)\n",
    "  cm = confusion_matrix(test_y, y_predicteds)\n",
    "  print(\"Confusion matrix: \")\n",
    "  print(cm)"
   ]
  }
 ],
 "metadata": {
  "kernelspec": {
   "display_name": "Python 3 (ipykernel)",
   "language": "python",
   "name": "python3"
  },
  "language_info": {
   "codemirror_mode": {
    "name": "ipython",
    "version": 3
   },
   "file_extension": ".py",
   "mimetype": "text/x-python",
   "name": "python",
   "nbconvert_exporter": "python",
   "pygments_lexer": "ipython3",
   "version": "3.12.4"
  }
 },
 "nbformat": 4,
 "nbformat_minor": 5
}
