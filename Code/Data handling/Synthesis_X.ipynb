{
 "cells": [
  {
   "cell_type": "code",
   "execution_count": 1,
   "id": "addc5b05-fc2f-44dc-9a95-1a730688f8f0",
   "metadata": {},
   "outputs": [],
   "source": [
    "import pandas as pd\n",
    "import numpy as np\n",
    "import seaborn as sns\n",
    "from matplotlib import pyplot as plt"
   ]
  },
  {
   "cell_type": "code",
   "execution_count": 2,
   "id": "441042c4-f20a-48b4-866f-65e6f7695588",
   "metadata": {},
   "outputs": [],
   "source": [
    "data = pd.read_csv('sample_pending_feature_selection.csv')"
   ]
  },
  {
   "cell_type": "code",
   "execution_count": 3,
   "id": "2bd81851",
   "metadata": {},
   "outputs": [],
   "source": [
    "import sdv"
   ]
  },
  {
   "cell_type": "code",
   "execution_count": null,
   "id": "b20896b7-ce36-40e8-9b72-f249f3ba5057",
   "metadata": {},
   "outputs": [],
   "source": [
    "# this is all Ai, i am not sure what is happening yet but i will look into it\n",
    "from ctgan import CTGAN\n",
    "\n",
    "# Load your dataset (assuming it's in a pandas DataFrame)\n",
    "df = pd.read_csv('your_dataset.csv')\n",
    "\n",
    "# Separate discrete and continuous columns\n",
    "discrete_columns = [col for col in df.columns if df[col].dtype == 'object']\n",
    "continuous_columns = [col for col in df.columns if df[col].dtype != 'object']\n",
    "\n",
    "# Create a CTGAN model\n",
    "ctgan = CTGAN(epochs=100)\n",
    "\n",
    "# Fit the model to your data\n",
    "ctgan.fit(df, discrete_columns)\n",
    "\n",
    "# Generate synthetic data\n",
    "synthetic_data = ctgan.sample(len(df))\n",
    "\n",
    "# Save the synthetic data to a new DataFrame\n",
    "synthetic_df = pd.DataFrame(synthetic_data, columns=df.columns)\n",
    "\n",
    "# Print the synthetic data\n",
    "print(synthetic_df.head())\n",
    "\n",
    "# Evaluate the quality of the synthetic data\n",
    "print(\"Original Dataframe shape:\", df.shape)\n",
    "print(\"Synthetic Dataframe shape:\", synthetic_df.shape)\n",
    "\n",
    "# Check for similarity in statistics\n",
    "print(\"Original Dataframe statistics:\")\n",
    "print(df.describe())\n",
    "print(\"Synthetic Dataframe statistics:\")\n",
    "print(synthetic_df.describe())"
   ]
  },
  {
   "cell_type": "code",
   "execution_count": null,
   "id": "6507d9d5-2658-4216-bcf1-31ca428a3ea5",
   "metadata": {},
   "outputs": [
    {
     "name": "stderr",
     "output_type": "stream",
     "text": [
      "c:\\Users\\USER\\AppData\\Local\\Programs\\Python\\Python311\\Lib\\site-packages\\sdv\\single_table\\base.py:145: FutureWarning: The 'SingleTableMetadata' is deprecated. Please use the new 'Metadata' class for synthesizers.\n",
      "  warnings.warn(DEPRECATION_MSG, FutureWarning)\n",
      "c:\\Users\\USER\\AppData\\Local\\Programs\\Python\\Python311\\Lib\\site-packages\\sdv\\single_table\\base.py:123: UserWarning: We strongly recommend saving the metadata using 'save_to_json' for replicability in future SDV versions.\n",
      "  warnings.warn(\n",
      "c:\\Users\\USER\\AppData\\Local\\Programs\\Python\\Python311\\Lib\\site-packages\\sdv\\single_table\\ctgan.py:27: FutureWarning: is_categorical_dtype is deprecated and will be removed in a future version. Use isinstance(dtype, CategoricalDtype) instead\n",
      "  col for col, dtype in data.dtypes.items() if pd.api.types.is_categorical_dtype(dtype)\n"
     ]
    },
    {
     "name": "stdout",
     "output_type": "stream",
     "text": [
      "Generating report ...\n",
      "\n",
      "(1/2) Evaluating Column Shapes: |██████████| 35/35 [00:00<00:00, 60.19it/s]|\n",
      "Column Shapes Score: 83.63%\n",
      "\n",
      "(2/2) Evaluating Column Pair Trends: |██████████| 595/595 [00:06<00:00, 89.83it/s]| \n",
      "Column Pair Trends Score: 78.44%\n",
      "\n",
      "Overall Score (Average): 81.03%\n",
      "\n",
      "   highest_education  employment_status  repayment_status  \\\n",
      "0                  3                  2                 0   \n",
      "1                  0                  0                 2   \n",
      "2                  0                  2                 1   \n",
      "3                  3                  2                 1   \n",
      "4                  3                  0                 0   \n",
      "\n",
      "   repayment_method_convenience  effectiveness_repayment_method  \\\n",
      "0                             0                               1   \n",
      "1                             0                               0   \n",
      "2                             1                               4   \n",
      "3                             2                               1   \n",
      "4                             3                               4   \n",
      "\n",
      "   collection_strategy_effectiveness  interaction_quality_on_repayment  \\\n",
      "0                                  0                                 3   \n",
      "1                                  0                                 1   \n",
      "2                                  2                                 1   \n",
      "3                                  0                                 0   \n",
      "4                                  2                                 1   \n",
      "\n",
      "   overall_experience_with_loan_process  gender_female  gender_male  ...  \\\n",
      "0                                     1       1.000000     0.927697  ...   \n",
      "1                                     1       0.000000     0.000000  ...   \n",
      "2                                     4       1.000000     0.000000  ...   \n",
      "3                                     1       0.995860     0.000000  ...   \n",
      "4                                     1       0.035325     0.953603  ...   \n",
      "\n",
      "   repayment_info_source_2  repayment_info_source_3  repayment_method_0  \\\n",
      "0                        0                        0                   0   \n",
      "1                        1                        1                   0   \n",
      "2                        1                        0                   0   \n",
      "3                        0                        0                   0   \n",
      "4                        1                        0                   0   \n",
      "\n",
      "   repayment_method_1  repayment_method_2  over_under_milion_0  \\\n",
      "0                   0                   0                    1   \n",
      "1                   1                   0                    1   \n",
      "2                   1                   1                    1   \n",
      "3                   1                   0                    0   \n",
      "4                   1                   1                    1   \n",
      "\n",
      "   over_under_milion_1  discipline_0                    discipline_1  \\\n",
      "0                    0             0                93939 Jason Lake   \n",
      "1                    0             0                32305 Cohen Club   \n",
      "2                    0             0  64283 Thomas Turnpike Apt. 780   \n",
      "3                    1             0           608 Thompson Motorway   \n",
      "4                    0             0              4879 Melissa Grove   \n",
      "\n",
      "   discipline_2  \n",
      "0      Apt. 337  \n",
      "1     Suite 996  \n",
      "2     Suite 097  \n",
      "3      Apt. 123  \n",
      "4     Suite 491  \n",
      "\n",
      "[5 rows x 35 columns]\n",
      "<sdmetrics.reports.single_table.quality_report.QualityReport object at 0x000001D2622EDE90>\n"
     ]
    }
   ],
   "source": [
    "from sdv.metadata import SingleTableMetadata\n",
    "from sdv.single_table import CTGANSynthesizer\n",
    "from sdv.evaluation.single_table import evaluate_quality\n",
    "\n",
    "# Creating metadaata for the dataset\n",
    "metadata = SingleTableMetadata()\n",
    "metadata.detect_from_dataframe(data)\n",
    "\n",
    "# Specify the categorical columns\n",
    "for col in data.columns:\n",
    "    if data[col].dtype == 'object':\n",
    "        metadata.update_column(\n",
    "            column_name=col,\n",
    "            sdtype='categorical'\n",
    "        )\n",
    "\n",
    "# Creating CTGAN synthesizer\n",
    "synthesizer = CTGANSynthesizer(metadata, epochs=100)\n",
    "synthesizer.fit(data)\n",
    "\n",
    "# Generating synthetic data\n",
    "synthetic_data = synthesizer.sample(num_rows=len(data)*3)\n",
    "sample = pd.DataFrame(synthetic_data)\n",
    "\n",
    "# Evaluating the quality of the synthetic data\n",
    "quality_report = evaluate_quality(data, sample, metadata)\n",
    "\n",
    "# Print the quality report\n",
    "print(quality_report)"
   ]
  },
  {
   "cell_type": "code",
   "execution_count": null,
   "id": "2848f4c6",
   "metadata": {},
   "outputs": [
    {
     "data": {
      "text/plain": [
       "(3366, 35)"
      ]
     },
     "execution_count": 5,
     "metadata": {},
     "output_type": "execute_result"
    }
   ],
   "source": [
    "sample.shape"
   ]
  },
  {
   "cell_type": "code",
   "execution_count": 7,
   "id": "6c1af440",
   "metadata": {},
   "outputs": [
    {
     "data": {
      "text/plain": [
       "Index(['highest_education', 'employment_status', 'repayment_status',\n",
       "       'repayment_method_convenience', 'effectiveness_repayment_method',\n",
       "       'collection_strategy_effectiveness', 'interaction_quality_on_repayment',\n",
       "       'overall_experience_with_loan_process', 'gender_female', 'gender_male',\n",
       "       'marital_status_divorced', 'marital_status_married',\n",
       "       'marital_status_single', 'marital_status_widowed', 'region_0',\n",
       "       'region_1', 'school_0', 'school_1', 'school_2', 'school_3',\n",
       "       'loan_purpose_0', 'loan_purpose_1', 'loan_purpose_2',\n",
       "       'repayment_info_source_0', 'repayment_info_source_1',\n",
       "       'repayment_info_source_2', 'repayment_info_source_3',\n",
       "       'repayment_method_0', 'repayment_method_1', 'repayment_method_2',\n",
       "       'over_under_milion_0', 'over_under_milion_1', 'discipline_0',\n",
       "       'discipline_1', 'discipline_2'],\n",
       "      dtype='object')"
      ]
     },
     "execution_count": 7,
     "metadata": {},
     "output_type": "execute_result"
    }
   ],
   "source": [
    "sample.columns"
   ]
  },
  {
   "cell_type": "code",
   "execution_count": 6,
   "id": "517e7b9c",
   "metadata": {},
   "outputs": [],
   "source": [
    "sample.to_csv(\"SDV_sample.csv\")"
   ]
  },
  {
   "cell_type": "code",
   "execution_count": null,
   "id": "947c4999",
   "metadata": {},
   "outputs": [
    {
     "data": {
      "text/plain": [
       "1021    0.0\n",
       "242     NaN\n",
       "3124    NaN\n",
       "381     2.0\n",
       "211     1.0\n",
       "2867    NaN\n",
       "648     NaN\n",
       "1927    NaN\n",
       "852     NaN\n",
       "1184    NaN\n",
       "2647    NaN\n",
       "838     NaN\n",
       "720     NaN\n",
       "1369    NaN\n",
       "1902    NaN\n",
       "2188    NaN\n",
       "622     0.0\n",
       "441     1.0\n",
       "5       NaN\n",
       "1046    NaN\n",
       "1551    NaN\n",
       "634     NaN\n",
       "2706    NaN\n",
       "2815    NaN\n",
       "2307    NaN\n",
       "3141    NaN\n",
       "285     1.0\n",
       "3223    NaN\n",
       "756     NaN\n",
       "2187    NaN\n",
       "2329    NaN\n",
       "2416    NaN\n",
       "3300    NaN\n",
       "2608    NaN\n",
       "1925    NaN\n",
       "1922    NaN\n",
       "2594    NaN\n",
       "431     NaN\n",
       "2333    NaN\n",
       "1566    NaN\n",
       "587     NaN\n",
       "1532    NaN\n",
       "3364    NaN\n",
       "36      NaN\n",
       "2143    NaN\n",
       "422     NaN\n",
       "69      2.0\n",
       "280     1.0\n",
       "2828    NaN\n",
       "2957    NaN\n",
       "Name: repayment_status, dtype: float64"
      ]
     },
     "execution_count": 11,
     "metadata": {},
     "output_type": "execute_result"
    }
   ],
   "source": [
    "X = sample.drop(columns='repayment_status')\n",
    "sample1= pd.concat([data, X], axis=0)\n",
    "sample1['repayment_status'].sample(50)\n",
    "# this works hence SSL can proceed now"
   ]
  }
 ],
 "metadata": {
  "kernelspec": {
   "display_name": "Python 3",
   "language": "python",
   "name": "python3"
  },
  "language_info": {
   "codemirror_mode": {
    "name": "ipython",
    "version": 3
   },
   "file_extension": ".py",
   "mimetype": "text/x-python",
   "name": "python",
   "nbconvert_exporter": "python",
   "pygments_lexer": "ipython3",
   "version": "3.11.5"
  }
 },
 "nbformat": 4,
 "nbformat_minor": 5
}
