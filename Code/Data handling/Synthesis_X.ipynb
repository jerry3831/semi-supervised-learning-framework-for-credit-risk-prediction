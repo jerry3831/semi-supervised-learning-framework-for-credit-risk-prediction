{
 "cells": [
  {
   "cell_type": "code",
   "execution_count": 1,
   "id": "addc5b05-fc2f-44dc-9a95-1a730688f8f0",
   "metadata": {},
   "outputs": [],
   "source": [
    "import pandas as pd\n",
    "import numpy as np\n",
    "import seaborn as sns\n",
    "from matplotlib import pyplot as plt"
   ]
  },
  {
   "cell_type": "code",
   "execution_count": 2,
   "id": "441042c4-f20a-48b4-866f-65e6f7695588",
   "metadata": {},
   "outputs": [],
   "source": [
    "data = pd.read_csv('sample_pending_feature_selection.csv')"
   ]
  },
  {
   "cell_type": "code",
   "execution_count": null,
   "id": "b20896b7-ce36-40e8-9b72-f249f3ba5057",
   "metadata": {},
   "outputs": [],
   "source": [
    "from ctgan import CTGAN\n",
    "\n",
    "# Load your dataset (assuming it's in a pandas DataFrame)\n",
    "df = pd.read_csv('your_dataset.csv')\n",
    "\n",
    "# Separate discrete and continuous columns\n",
    "discrete_columns = [col for col in df.columns if df[col].dtype == 'object']\n",
    "continuous_columns = [col for col in df.columns if df[col].dtype != 'object']\n",
    "\n",
    "# Create a CTGAN model\n",
    "ctgan = CTGAN(epochs=100)\n",
    "\n",
    "# Fit the model to your data\n",
    "ctgan.fit(df, discrete_columns)\n",
    "\n",
    "# Generate synthetic data\n",
    "synthetic_data = ctgan.sample(len(df))\n",
    "\n",
    "# Save the synthetic data to a new DataFrame\n",
    "synthetic_df = pd.DataFrame(synthetic_data, columns=df.columns)\n",
    "\n",
    "# Print the synthetic data\n",
    "print(synthetic_df.head())\n",
    "\n",
    "# Evaluate the quality of the synthetic data\n",
    "print(\"Original Dataframe shape:\", df.shape)\n",
    "print(\"Synthetic Dataframe shape:\", synthetic_df.shape)\n",
    "\n",
    "# Check for similarity in statistics\n",
    "print(\"Original Dataframe statistics:\")\n",
    "print(df.describe())\n",
    "print(\"Synthetic Dataframe statistics:\")\n",
    "print(synthetic_df.describe())"
   ]
  },
  {
   "cell_type": "code",
   "execution_count": 7,
   "id": "6507d9d5-2658-4216-bcf1-31ca428a3ea5",
   "metadata": {},
   "outputs": [
    {
     "ename": "ModuleNotFoundError",
     "evalue": "No module named 'sdv'",
     "output_type": "error",
     "traceback": [
      "\u001b[1;31m---------------------------------------------------------------------------\u001b[0m",
      "\u001b[1;31mModuleNotFoundError\u001b[0m                       Traceback (most recent call last)",
      "Cell \u001b[1;32mIn[7], line 1\u001b[0m\n\u001b[1;32m----> 1\u001b[0m \u001b[38;5;28;01mfrom\u001b[39;00m \u001b[38;5;21;01msdv\u001b[39;00m\u001b[38;5;21;01m.\u001b[39;00m\u001b[38;5;21;01mmetadata\u001b[39;00m \u001b[38;5;28;01mimport\u001b[39;00m SingleTableMetadata\n\u001b[0;32m      2\u001b[0m \u001b[38;5;28;01mfrom\u001b[39;00m \u001b[38;5;21;01msdv\u001b[39;00m\u001b[38;5;21;01m.\u001b[39;00m\u001b[38;5;21;01msingle_table\u001b[39;00m \u001b[38;5;28;01mimport\u001b[39;00m CTGANSynthesizer\n\u001b[0;32m      3\u001b[0m \u001b[38;5;28;01mfrom\u001b[39;00m \u001b[38;5;21;01msdv\u001b[39;00m\u001b[38;5;21;01m.\u001b[39;00m\u001b[38;5;21;01mevaluation\u001b[39;00m\u001b[38;5;21;01m.\u001b[39;00m\u001b[38;5;21;01msingle_table\u001b[39;00m \u001b[38;5;28;01mimport\u001b[39;00m evaluate_quality\n",
      "\u001b[1;31mModuleNotFoundError\u001b[0m: No module named 'sdv'"
     ]
    }
   ],
   "source": [
    "from sdv.metadata import SingleTableMetadata\n",
    "from sdv.single_table import CTGANSynthesizer\n",
    "from sdv.evaluation.single_table import evaluate_quality\n",
    "\n",
    "# Creating metadaata for the dataset\n",
    "metadata = SingleTableMetadata()\n",
    "metadata.detect_from_dataframe(data)\n",
    "\n",
    "# Specify the categorical columns\n",
    "for col in data.columns:\n",
    "    if data[col].dtype == 'object':\n",
    "        metadata.update_column(\n",
    "            column_name=col,\n",
    "            sdtype='categorical'\n",
    "        )\n",
    "\n",
    "# Create a CTGAN synthesizer\n",
    "synthesizer = CTGANSynthesizer(metadata, epochs=100)\n",
    "\n",
    "# Fit the synthesizer to your data\n",
    "synthesizer.fit(data)\n",
    "\n",
    "# Generate synthetic data\n",
    "synthetic_data = synthesizer.sample(num_rows=len(data)*3)\n",
    "\n",
    "# Save the synthetic data to a new DataFrame\n",
    "sample = pd.DataFrame(synthetic_data)\n",
    "\n",
    "# Evaluate the quality of the synthetic data\n",
    "quality_report = evaluate_quality(data, sample, metadata)\n",
    "\n",
    "# Print the synthetic data\n",
    "print(sample.head())\n",
    "\n",
    "# Print the quality report\n",
    "print(quality_report)"
   ]
  }
 ],
 "metadata": {
  "kernelspec": {
   "display_name": "Python 3 (ipykernel)",
   "language": "python",
   "name": "python3"
  },
  "language_info": {
   "codemirror_mode": {
    "name": "ipython",
    "version": 3
   },
   "file_extension": ".py",
   "mimetype": "text/x-python",
   "name": "python",
   "nbconvert_exporter": "python",
   "pygments_lexer": "ipython3",
   "version": "3.12.4"
  }
 },
 "nbformat": 4,
 "nbformat_minor": 5
}
