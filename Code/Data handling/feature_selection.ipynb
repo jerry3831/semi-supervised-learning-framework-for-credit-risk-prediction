{
 "cells": [
  {
   "cell_type": "code",
   "execution_count": 1,
   "id": "656e9371-247c-446e-b4f6-239601cb7f79",
   "metadata": {},
   "outputs": [],
   "source": [
    "import pandas as pd\n",
    "import numpy as np "
   ]
  },
  {
   "cell_type": "code",
   "execution_count": 6,
   "id": "0f23b79b-33c9-4322-84c2-20be321a64fe",
   "metadata": {},
   "outputs": [],
   "source": [
    "pd.set_option('display.max_columns', None)\n",
    "pd.set_option('display.max_rows', None)"
   ]
  },
  {
   "cell_type": "code",
   "execution_count": 2,
   "id": "c257adf4-c75a-40b2-9b1b-054454d59aac",
   "metadata": {},
   "outputs": [],
   "source": [
    "data = pd.read_csv('sample_pending_feature_selection.csv')"
   ]
  },
  {
   "cell_type": "code",
   "execution_count": 4,
   "id": "65fd323f-3214-410f-a765-33d68f67b7ef",
   "metadata": {},
   "outputs": [
    {
     "data": {
      "text/plain": [
       "(1122, 35)"
      ]
     },
     "execution_count": 4,
     "metadata": {},
     "output_type": "execute_result"
    }
   ],
   "source": [
    "data.shape"
   ]
  },
  {
   "cell_type": "code",
   "execution_count": 5,
   "id": "c7a90dca-56cf-4b49-806f-c9c5ab127e16",
   "metadata": {},
   "outputs": [],
   "source": [
    "import seaborn as sns\n",
    "import matplotlib.pyplot as plt"
   ]
  },
  {
   "cell_type": "code",
   "execution_count": 12,
   "id": "369d1b50-ab24-441f-bf8e-a62091f7e2ec",
   "metadata": {},
   "outputs": [],
   "source": [
    "sample = (data.to_numpy()).astype('int64')"
   ]
  },
  {
   "cell_type": "code",
   "execution_count": 13,
   "id": "793a454a-a560-4a78-82d3-4f0cbb1c801d",
   "metadata": {},
   "outputs": [
    {
     "data": {
      "text/plain": [
       "array([[3, 0, 0, ..., 0, 0, 1],\n",
       "       [3, 0, 0, ..., 0, 0, 1],\n",
       "       [3, 0, 0, ..., 0, 0, 1],\n",
       "       ...,\n",
       "       [3, 0, 0, ..., 0, 1, 1],\n",
       "       [3, 0, 0, ..., 0, 1, 1],\n",
       "       [2, 0, 0, ..., 0, 1, 1]], dtype=int64)"
      ]
     },
     "execution_count": 13,
     "metadata": {},
     "output_type": "execute_result"
    }
   ],
   "source": [
    "print(sample)"
   ]
  },
  {
   "cell_type": "code",
   "execution_count": 15,
   "id": "1427710b-37dd-4d39-8cad-8871fd35cf9a",
   "metadata": {},
   "outputs": [
    {
     "ename": "AttributeError",
     "evalue": "'numpy.ndarray' object has no attribute 'corr'",
     "output_type": "error",
     "traceback": [
      "\u001b[1;31m---------------------------------------------------------------------------\u001b[0m",
      "\u001b[1;31mAttributeError\u001b[0m                            Traceback (most recent call last)",
      "Cell \u001b[1;32mIn[15], line 1\u001b[0m\n\u001b[1;32m----> 1\u001b[0m sns\u001b[38;5;241m.\u001b[39mheatmap(sample\u001b[38;5;241m.\u001b[39mcorr)\n",
      "\u001b[1;31mAttributeError\u001b[0m: 'numpy.ndarray' object has no attribute 'corr'"
     ]
    }
   ],
   "source": [
    "sns.heatmap(sample.corr)"
   ]
  }
 ],
 "metadata": {
  "kernelspec": {
   "display_name": "Python 3 (ipykernel)",
   "language": "python",
   "name": "python3"
  },
  "language_info": {
   "codemirror_mode": {
    "name": "ipython",
    "version": 3
   },
   "file_extension": ".py",
   "mimetype": "text/x-python",
   "name": "python",
   "nbconvert_exporter": "python",
   "pygments_lexer": "ipython3",
   "version": "3.12.4"
  }
 },
 "nbformat": 4,
 "nbformat_minor": 5
}
