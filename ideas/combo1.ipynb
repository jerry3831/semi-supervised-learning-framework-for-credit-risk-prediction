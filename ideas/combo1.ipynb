{
 "cells": [
  {
   "cell_type": "markdown",
   "id": "e53706f0",
   "metadata": {},
   "source": [
    "## Importing necessary libraries"
   ]
  },
  {
   "cell_type": "code",
   "execution_count": 2,
   "id": "5ce9022e",
   "metadata": {},
   "outputs": [],
   "source": [
    "import pandas as pd \n",
    "import seaborn as sn\n",
    "import matplotlib.pyplot as plt\n",
    "from sklearn.model_selection import train_test_split\n",
    "import sklearn.metrics\n",
    "import os, sys\n",
    "from scipy import stats"
   ]
  },
  {
   "cell_type": "code",
   "execution_count": 3,
   "id": "2f9b145f",
   "metadata": {},
   "outputs": [],
   "source": [
    "pd.set_option('display.max_columns', None)\n",
    "pd.set_option('display.max_rows', None)"
   ]
  },
  {
   "cell_type": "markdown",
   "id": "2ff8b5ed",
   "metadata": {},
   "source": [
    "## Loading the data"
   ]
  },
  {
   "cell_type": "code",
   "execution_count": 4,
   "id": "40dac48e",
   "metadata": {},
   "outputs": [],
   "source": [
    "data = pd.read_excel(r'C:\\Users\\USER\\Desktop\\Credit risk prediction\\datasetv1-1.xlsx')"
   ]
  },
  {
   "cell_type": "markdown",
   "id": "f5b81c06",
   "metadata": {},
   "source": [
    "## Exploration and data discovery"
   ]
  },
  {
   "cell_type": "code",
   "execution_count": 5,
   "id": "f9edb044",
   "metadata": {},
   "outputs": [
    {
     "name": "stdout",
     "output_type": "stream",
     "text": [
      "False\n"
     ]
    }
   ],
   "source": [
    "# duplicates if any\n",
    "duplicates = data.duplicated()\n",
    "print(duplicates.any())"
   ]
  },
  {
   "cell_type": "code",
   "execution_count": 67,
   "id": "d7ee026c",
   "metadata": {},
   "outputs": [
    {
     "name": "stdout",
     "output_type": "stream",
     "text": [
      "                               column  Percentage(%)\n",
      "       informed_repayment_obligations           93.0\n",
      "any_alternative_collection_strategies           93.0\n",
      "        tech_tools_improving_recovery           92.0\n",
      "    suggested_collection_improvements           92.0\n",
      "    alternative_collection_strategies           11.0\n",
      "            loan_repayment_challenges            8.0\n",
      "                 repayment_challenges            4.0\n",
      "        any_loan_repayment_challenges            3.0\n",
      "                      study_programme            3.0\n",
      "         repayment_method_convenience            2.0\n",
      "     interaction_quality_on_repayment            2.0\n",
      "       effectiveness_repayment_method            2.0\n",
      "                           total_loan            1.0\n",
      "    collection_strategy_effectiveness            1.0\n",
      "                           graduation            1.0\n",
      " overall_experience_with_loan_process            1.0\n",
      "                         loan_purpose            1.0\n",
      "                    highest_education            1.0\n",
      "                               region            1.0\n",
      "   factors_loan_repayment_performance            0.0\n",
      "                            age_range            0.0\n",
      "                      reCoMmendations            0.0\n",
      "                               school            0.0\n",
      "                               gender            0.0\n",
      "                repayment_info_source            0.0\n",
      "                     repayment_status            0.0\n",
      "                 last_year_benefitted            0.0\n",
      "                    employment_status            0.0\n",
      "                       marital_status            0.0\n",
      "                     repayment_method            0.0\n"
     ]
    }
   ],
   "source": [
    "# missing values\n",
    "missing_values = data.isnull().mean().sort_values(ascending=False).round(2)\n",
    "missing_values_df = pd.DataFrame({'column': missing_values.index,\n",
    "                                  'Percentage(%)': missing_values * 100})\n",
    "missing_values_df = missing_values_df.to_string(index=False)\n",
    "print(missing_values_df)"
   ]
  },
  {
   "cell_type": "code",
   "execution_count": 44,
   "id": "8ea1b953",
   "metadata": {},
   "outputs": [
    {
     "name": "stdout",
     "output_type": "stream",
     "text": [
      "datatype counts\n",
      "\n",
      "object     28\n",
      "float64     1\n",
      "int64       1\n",
      "Name: count, dtype: int64 \n",
      "\n",
      "dataset information\n",
      "\n",
      "<class 'pandas.core.frame.DataFrame'>\n",
      "RangeIndex: 355 entries, 0 to 354\n",
      "Data columns (total 30 columns):\n",
      " #   Column                                 Non-Null Count  Dtype  \n",
      "---  ------                                 --------------  -----  \n",
      " 0   age_range                              354 non-null    object \n",
      " 1   gender                                 355 non-null    object \n",
      " 2   marital_status                         355 non-null    object \n",
      " 3   region                                 353 non-null    object \n",
      " 4   highest_education                      353 non-null    object \n",
      " 5   school                                 354 non-null    object \n",
      " 6   graduation                             352 non-null    float64\n",
      " 7   study_programme                        346 non-null    object \n",
      " 8   employment_status                      355 non-null    object \n",
      " 9   last_year_benefitted                   355 non-null    int64  \n",
      " 10  total_loan                             351 non-null    object \n",
      " 11  loan_purpose                           353 non-null    object \n",
      " 12  repayment_status                       355 non-null    object \n",
      " 13  informed_repayment_obligations         25 non-null     object \n",
      " 14  repayment_info_source                  355 non-null    object \n",
      " 15  repayment_method                       355 non-null    object \n",
      " 16  repayment_method_convenience           347 non-null    object \n",
      " 17  effectiveness_repayment_method         349 non-null    object \n",
      " 18  any_loan_repayment_challenges          345 non-null    object \n",
      " 19  loan_repayment_challenges              328 non-null    object \n",
      " 20  collection_strategy_effectiveness      352 non-null    object \n",
      " 21  factors_loan_repayment_performance     354 non-null    object \n",
      " 22  repayment_challenges                   340 non-null    object \n",
      " 23  interaction_quality_on_repayment       348 non-null    object \n",
      " 24  suggested_collection_improvements      27 non-null     object \n",
      " 25  tech_tools_improving_recovery          27 non-null     object \n",
      " 26  any_alternative_collection_strategies  25 non-null     object \n",
      " 27  alternative_collection_strategies      315 non-null    object \n",
      " 28  overall_experience_with_loan_process   352 non-null    object \n",
      " 29  reCoMmendations                        354 non-null    object \n",
      "dtypes: float64(1), int64(1), object(28)\n",
      "memory usage: 83.3+ KB\n",
      "None\n"
     ]
    }
   ],
   "source": [
    "# datatypes\n",
    "print('datatype counts\\n')\n",
    "print(data.dtypes.value_counts(),'\\n')\n",
    "\n",
    "print('dataset information\\n')\n",
    "print(data.info())"
   ]
  },
  {
   "cell_type": "markdown",
   "id": "5f82d550",
   "metadata": {},
   "source": [
    "## Data preprocessing and EDA"
   ]
  },
  {
   "cell_type": "code",
   "execution_count": 7,
   "id": "b86dbb50",
   "metadata": {},
   "outputs": [
    {
     "data": {
      "text/html": [
       "<div>\n",
       "<style scoped>\n",
       "    .dataframe tbody tr th:only-of-type {\n",
       "        vertical-align: middle;\n",
       "    }\n",
       "\n",
       "    .dataframe tbody tr th {\n",
       "        vertical-align: top;\n",
       "    }\n",
       "\n",
       "    .dataframe thead th {\n",
       "        text-align: right;\n",
       "    }\n",
       "</style>\n",
       "<table border=\"1\" class=\"dataframe\">\n",
       "  <thead>\n",
       "    <tr style=\"text-align: right;\">\n",
       "      <th></th>\n",
       "      <th>age_range</th>\n",
       "      <th>gender</th>\n",
       "      <th>marital_status</th>\n",
       "      <th>region</th>\n",
       "      <th>highest_education</th>\n",
       "      <th>school</th>\n",
       "      <th>graduation</th>\n",
       "      <th>study_programme</th>\n",
       "      <th>employment_status</th>\n",
       "      <th>last_year_benefitted</th>\n",
       "      <th>total_loan</th>\n",
       "      <th>loan_purpose</th>\n",
       "      <th>repayment_status</th>\n",
       "      <th>informed_repayment_obligations</th>\n",
       "      <th>repayment_info_source</th>\n",
       "      <th>repayment_method</th>\n",
       "      <th>repayment_method_convenience</th>\n",
       "      <th>effectiveness_repayment_method</th>\n",
       "      <th>any_loan_repayment_challenges</th>\n",
       "      <th>loan_repayment_challenges</th>\n",
       "      <th>collection_strategy_effectiveness</th>\n",
       "      <th>factors_loan_repayment_performance</th>\n",
       "      <th>repayment_challenges</th>\n",
       "      <th>interaction_quality_on_repayment</th>\n",
       "      <th>suggested_collection_improvements</th>\n",
       "      <th>tech_tools_improving_recovery</th>\n",
       "      <th>any_alternative_collection_strategies</th>\n",
       "      <th>alternative_collection_strategies</th>\n",
       "      <th>overall_experience_with_loan_process</th>\n",
       "      <th>reCoMmendations</th>\n",
       "    </tr>\n",
       "  </thead>\n",
       "  <tbody>\n",
       "  </tbody>\n",
       "</table>\n",
       "</div>"
      ],
      "text/plain": [
       "Empty DataFrame\n",
       "Columns: [age_range, gender, marital_status, region, highest_education, school, graduation, study_programme, employment_status, last_year_benefitted, total_loan, loan_purpose, repayment_status, informed_repayment_obligations, repayment_info_source, repayment_method, repayment_method_convenience, effectiveness_repayment_method, any_loan_repayment_challenges, loan_repayment_challenges, collection_strategy_effectiveness, factors_loan_repayment_performance, repayment_challenges, interaction_quality_on_repayment, suggested_collection_improvements, tech_tools_improving_recovery, any_alternative_collection_strategies, alternative_collection_strategies, overall_experience_with_loan_process, reCoMmendations]\n",
       "Index: []"
      ]
     },
     "execution_count": 7,
     "metadata": {},
     "output_type": "execute_result"
    }
   ],
   "source": [
    "data.sample(0)"
   ]
  },
  {
   "cell_type": "code",
   "execution_count": null,
   "id": "17d43b60",
   "metadata": {},
   "outputs": [],
   "source": []
  }
 ],
 "metadata": {
  "kernelspec": {
   "display_name": "Python 3",
   "language": "python",
   "name": "python3"
  },
  "language_info": {
   "codemirror_mode": {
    "name": "ipython",
    "version": 3
   },
   "file_extension": ".py",
   "mimetype": "text/x-python",
   "name": "python",
   "nbconvert_exporter": "python",
   "pygments_lexer": "ipython3",
   "version": "3.11.5"
  }
 },
 "nbformat": 4,
 "nbformat_minor": 5
}
